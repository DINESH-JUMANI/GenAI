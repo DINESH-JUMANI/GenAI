{
  "cells": [
    {
      "cell_type": "markdown",
      "metadata": {
        "id": "NUU2wWzaTUhe"
      },
      "source": [
        "## Text-to-Image Generation using Stable Diffusion and Diffusers\n",
        "\n"
      ]
    },
    {
      "cell_type": "code",
      "execution_count": null,
      "metadata": {
        "collapsed": true,
        "id": "PjHEI21m5gOO"
      },
      "outputs": [],
      "source": [
        "#diffusers is a hugging face page for using diffusion models from huggingface hub\n",
        "!pip install diffusers transformers accelerate"
      ]
    },
    {
      "cell_type": "code",
      "execution_count": null,
      "metadata": {
        "id": "6vaYX6D25ssW"
      },
      "outputs": [],
      "source": [
        "from diffusers import StableDiffusionPipeline\n",
        "import matplotlib.pyplot as plt\n",
        "import torch"
      ]
    },
    {
      "cell_type": "code",
      "execution_count": null,
      "metadata": {
        "id": "ISB5Ciaa5yW2",
        "collapsed": true
      },
      "outputs": [],
      "source": [
        "!pip show torch"
      ]
    },
    {
      "cell_type": "code",
      "execution_count": null,
      "metadata": {
        "collapsed": true,
        "id": "4xzK7UjS52De"
      },
      "outputs": [],
      "source": [
        "model_id1 = \"dreamlike-art/dreamlike-diffusion-1.0\"\n",
        "model_id2 = \"stabilityai/stable-diffusion-xl-base-1.0\"\n",
        "\n",
        "pipe = StableDiffusionPipeline.from_pretrained(model_id1, torch_dtype=torch.float16, use_safetensors=True)\n",
        "pipe = pipe.to(\"cuda\")"
      ]
    },
    {
      "cell_type": "code",
      "execution_count": null,
      "metadata": {
        "id": "s_l-F4666wfs"
      },
      "outputs": [],
      "source": [
        "prompt = \"\"\"dreamlikeart, a grungy woman with rainbow hair, travelling between dimensions, dynamic pose, happy, soft eyes and narrow chin,\n",
        "extreme bokeh, dainty figure, long hair straight down, torn kawaii shirt and baggy jeans\n",
        "\"\"\""
      ]
    },
    {
      "cell_type": "code",
      "execution_count": null,
      "metadata": {
        "id": "VOOFYyqa7t0b"
      },
      "outputs": [],
      "source": [
        "image = pipe(prompt).images[0]"
      ]
    },
    {
      "cell_type": "code",
      "source": [
        "image"
      ],
      "metadata": {
        "id": "ZRv0aIefpG_Q"
      },
      "execution_count": null,
      "outputs": []
    },
    {
      "cell_type": "code",
      "execution_count": null,
      "metadata": {
        "id": "_LLxO4VJ7w7w",
        "collapsed": true
      },
      "outputs": [],
      "source": [
        "print(\"[PROMPT]: \",prompt)\n",
        "plt.imshow(image);\n",
        "plt.axis('off');"
      ]
    },
    {
      "cell_type": "code",
      "execution_count": null,
      "metadata": {
        "id": "o-VkISO672kV"
      },
      "outputs": [],
      "source": [
        "prompt2 = \"\"\"A girl is sittig on a chair & She is accompanied by her tiger. Make sure to keep it cinematic and color to be golden iris\n",
        "\"\"\"\n",
        "\n",
        "image = pipe(prompt2).images[0]"
      ]
    },
    {
      "cell_type": "code",
      "execution_count": null,
      "metadata": {
        "id": "Wfkmii2-8kcZ"
      },
      "outputs": [],
      "source": [
        "print('[PROMPT]: ',prompt2)\n",
        "plt.imshow(image);\n",
        "plt.axis('off');"
      ]
    },
    {
      "cell_type": "markdown",
      "metadata": {
        "id": "zTkcoOOURsyx"
      },
      "source": [
        "https://huggingface.co/docs/diffusers/using-diffusers/loading"
      ]
    },
    {
      "cell_type": "markdown",
      "source": [
        "### Working with Stable Diffusion parameters\n",
        "\n",
        "* Negative prompting\n",
        "* num_inference_steps\n",
        "* height\n",
        "* weight\n",
        "* num_images_per_prompt"
      ],
      "metadata": {
        "id": "d8BUdv47DbVQ"
      }
    },
    {
      "cell_type": "code",
      "execution_count": null,
      "metadata": {
        "id": "ZLPXIR0gL7ml"
      },
      "outputs": [],
      "source": [
        "def generate_image(pipe, prompt, params):\n",
        "  img = pipe(prompt, **params).images\n",
        "\n",
        "  num_images = len(img)\n",
        "  if num_images>1:\n",
        "    fig, ax = plt.subplots(nrows=1, ncols=num_images)\n",
        "    for i in range(num_images):\n",
        "      ax[i].imshow(img[i]);\n",
        "      ax[i].axis('off');\n",
        "\n",
        "  else:\n",
        "    fig = plt.figure()\n",
        "    plt.imshow(img[0]);\n",
        "    plt.axis('off');\n",
        "  plt.tight_layout()"
      ]
    },
    {
      "cell_type": "code",
      "source": [
        "prompt = \"dreamlike, beautiful girl playing the festival of colors, draped in traditional Indian attire, throwing colors\"\n",
        "\n",
        "params = {}"
      ],
      "metadata": {
        "id": "-673sHNbGysa"
      },
      "execution_count": null,
      "outputs": []
    },
    {
      "cell_type": "code",
      "source": [
        "generate_image(pipe, prompt, params)"
      ],
      "metadata": {
        "id": "soaIVI4sHj__",
        "collapsed": true
      },
      "execution_count": null,
      "outputs": []
    },
    {
      "cell_type": "code",
      "source": [
        "#num inference steps\n",
        "params = {'num_inference_steps': 100}\n",
        "\n",
        "generate_image(pipe, prompt, params)"
      ],
      "metadata": {
        "id": "WAAny_u8Hpys",
        "collapsed": true
      },
      "execution_count": null,
      "outputs": []
    },
    {
      "cell_type": "code",
      "source": [
        "#height width\n",
        "params = {'num_inference_steps': 100, 'width': 512, 'height': int(1.5*640)}\n",
        "\n",
        "generate_image(pipe, prompt, params)"
      ],
      "metadata": {
        "id": "p0dXObgdIHaT",
        "collapsed": true
      },
      "execution_count": null,
      "outputs": []
    },
    {
      "cell_type": "code",
      "source": [
        "#num_images_per_prompt\n",
        "params = {'num_inference_steps': 100, 'num_images_per_prompt': 2}\n",
        "\n",
        "generate_image(pipe, prompt, params)"
      ],
      "metadata": {
        "id": "K1DWQYyyJGVh",
        "collapsed": true
      },
      "execution_count": null,
      "outputs": []
    },
    {
      "cell_type": "code",
      "source": [
        "# negative_prompt\n",
        "params = {'num_inference_steps': 100, 'num_images_per_prompt': 2, 'negative_prompt': 'ugly, distorted, low quality'}\n",
        "\n",
        "generate_image(pipe, prompt, params)"
      ],
      "metadata": {
        "id": "YaH4xnx0JQWn",
        "collapsed": true
      },
      "execution_count": null,
      "outputs": []
    },
    {
      "cell_type": "code",
      "execution_count": null,
      "metadata": {
        "id": "7Adw3ep7cV-Z"
      },
      "outputs": [],
      "source": []
    }
  ],
  "metadata": {
    "accelerator": "GPU",
    "colab": {
      "gpuType": "T4",
      "provenance": []
    },
    "kernelspec": {
      "display_name": "Python 3",
      "name": "python3"
    },
    "language_info": {
      "name": "python"
    }
  },
  "nbformat": 4,
  "nbformat_minor": 0
}