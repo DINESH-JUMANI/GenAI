{
 "cells": [
  {
   "cell_type": "markdown",
   "metadata": {
    "id": "6Nqr2Ga5Zl_I"
   },
   "source": [
    "Some common terms to remember:\n",
    "1. Corpus\n",
    "2. Vocabulary\n",
    "3. Document\n",
    "4. Word"
   ]
  },
  {
   "cell_type": "markdown",
   "metadata": {
    "id": "Dc96CHeAfXMD"
   },
   "source": [
    "# Bag of words"
   ]
  },
  {
   "cell_type": "code",
   "execution_count": null,
   "metadata": {
    "executionInfo": {
     "elapsed": 3,
     "status": "ok",
     "timestamp": 1702122181123,
     "user": {
      "displayName": "colab0 ineuron",
      "userId": "16851312232179065356"
     },
     "user_tz": -360
    },
    "id": "X13eTxrzfXMH"
   },
   "outputs": [],
   "source": [
    "import numpy as np\n",
    "import pandas as pd"
   ]
  },
  {
   "cell_type": "code",
   "execution_count": null,
   "metadata": {
    "colab": {
     "base_uri": "https://localhost:8080/",
     "height": 174
    },
    "executionInfo": {
     "elapsed": 15,
     "status": "ok",
     "timestamp": 1702122186580,
     "user": {
      "displayName": "colab0 ineuron",
      "userId": "16851312232179065356"
     },
     "user_tz": -360
    },
    "id": "YiAM6J7HfXMK",
    "outputId": "9723045f-c4fa-4f17-f4be-8820393e4517"
   },
   "outputs": [],
   "source": [
    "df = pd.DataFrame({\"text\":[\"dinesh watch dj\",\n",
    "                         \"dj watch dj\",\n",
    "                         \"dinesh write comment\",\n",
    "                          \"dj write comment\"],\"output\":[1,1,0,0]})\n",
    "\n",
    "df"
   ]
  },
  {
   "cell_type": "code",
   "execution_count": null,
   "metadata": {
    "executionInfo": {
     "elapsed": 1913,
     "status": "ok",
     "timestamp": 1702122227516,
     "user": {
      "displayName": "colab0 ineuron",
      "userId": "16851312232179065356"
     },
     "user_tz": -360
    },
    "id": "34_ERQexfXMM"
   },
   "outputs": [],
   "source": [
    "from sklearn.feature_extraction.text import CountVectorizer\n",
    "cv = CountVectorizer()"
   ]
  },
  {
   "cell_type": "code",
   "execution_count": null,
   "metadata": {
    "executionInfo": {
     "elapsed": 4,
     "status": "ok",
     "timestamp": 1702122231980,
     "user": {
      "displayName": "colab0 ineuron",
      "userId": "16851312232179065356"
     },
     "user_tz": -360
    },
    "id": "XcuEAVN7fXMM"
   },
   "outputs": [],
   "source": [
    "bow = cv.fit_transform(df['text'])"
   ]
  },
  {
   "cell_type": "code",
   "execution_count": null,
   "metadata": {
    "colab": {
     "base_uri": "https://localhost:8080/"
    },
    "executionInfo": {
     "elapsed": 7,
     "status": "ok",
     "timestamp": 1702122235583,
     "user": {
      "displayName": "colab0 ineuron",
      "userId": "16851312232179065356"
     },
     "user_tz": -360
    },
    "id": "L6g9cuGAfXMM",
    "outputId": "0044c5cb-b6af-417d-8886-126ae17d1b2c"
   },
   "outputs": [],
   "source": [
    "#vocabulary\n",
    "print(cv.vocabulary_)"
   ]
  },
  {
   "cell_type": "code",
   "execution_count": null,
   "metadata": {
    "colab": {
     "base_uri": "https://localhost:8080/"
    },
    "executionInfo": {
     "elapsed": 5,
     "status": "ok",
     "timestamp": 1702122254278,
     "user": {
      "displayName": "colab0 ineuron",
      "userId": "16851312232179065356"
     },
     "user_tz": -360
    },
    "id": "124u1tNE_3C3",
    "outputId": "c661e979-d720-4786-cd7d-8a55ef435255"
   },
   "outputs": [],
   "source": [
    "bow.toarray()"
   ]
  },
  {
   "cell_type": "code",
   "execution_count": null,
   "metadata": {
    "colab": {
     "base_uri": "https://localhost:8080/"
    },
    "executionInfo": {
     "elapsed": 4,
     "status": "ok",
     "timestamp": 1668843798600,
     "user": {
      "displayName": "Boktiar Ahmed Bappy",
      "userId": "10381972055342951581"
     },
     "user_tz": -360
    },
    "id": "Fj8Ie1C5fXMN",
    "outputId": "36e2833c-a8ca-4860-bde0-0bc5723dc4ee"
   },
   "outputs": [],
   "source": [
    "print(bow[0].toarray())\n",
    "print(bow[1].toarray())\n",
    "print(bow[2].toarray())"
   ]
  },
  {
   "cell_type": "code",
   "execution_count": null,
   "metadata": {
    "colab": {
     "base_uri": "https://localhost:8080/"
    },
    "executionInfo": {
     "elapsed": 5,
     "status": "ok",
     "timestamp": 1702122646509,
     "user": {
      "displayName": "colab0 ineuron",
      "userId": "16851312232179065356"
     },
     "user_tz": -360
    },
    "id": "ykzvZJonfXMN",
    "outputId": "b0138701-c82e-4066-fd29-ba5d3dc5e465"
   },
   "outputs": [],
   "source": [
    "# new\n",
    "cv.transform(['Dinesh watch dj']).toarray()"
   ]
  },
  {
   "cell_type": "code",
   "execution_count": null,
   "metadata": {
    "id": "scbhgP7Hk2de"
   },
   "outputs": [],
   "source": [
    "X = bow.toarray()\n",
    "y = df['output']"
   ]
  },
  {
   "cell_type": "code",
   "execution_count": null,
   "metadata": {
    "id": "v71DcxiEk2Sr"
   },
   "outputs": [],
   "source": []
  },
  {
   "cell_type": "markdown",
   "metadata": {
    "id": "tRyCsTt9fXMO"
   },
   "source": [
    "#  N-grams"
   ]
  },
  {
   "cell_type": "code",
   "execution_count": null,
   "metadata": {
    "colab": {
     "base_uri": "https://localhost:8080/",
     "height": 174
    },
    "executionInfo": {
     "elapsed": 531,
     "status": "ok",
     "timestamp": 1702122671507,
     "user": {
      "displayName": "colab0 ineuron",
      "userId": "16851312232179065356"
     },
     "user_tz": -360
    },
    "id": "SnFlULCvfXMO",
    "outputId": "52135bfc-2d77-49eb-dca9-ed377def8558"
   },
   "outputs": [],
   "source": [
    "df = pd.DataFrame({\"text\":[\"This is a good movie\",\n",
    "                         \"This is not a good movie\",\n",
    "                         \"This is a bad movie\",\n",
    "                          \"This is not a bad movie\"],\"output\":[1,0,1,0]})\n",
    "\n",
    "df"
   ]
  },
  {
   "cell_type": "code",
   "execution_count": null,
   "metadata": {
    "id": "ehq1YwC3fXMP"
   },
   "outputs": [],
   "source": [
    "# BI grams\n",
    "from sklearn.feature_extraction.text import CountVectorizer\n",
    "cv = CountVectorizer(ngram_range=(2,2))"
   ]
  },
  {
   "cell_type": "code",
   "execution_count": null,
   "metadata": {
    "id": "aAO3z9I-fXMP"
   },
   "outputs": [],
   "source": [
    "bow = cv.fit_transform(df['text'])"
   ]
  },
  {
   "cell_type": "code",
   "execution_count": null,
   "metadata": {
    "colab": {
     "base_uri": "https://localhost:8080/"
    },
    "executionInfo": {
     "elapsed": 10,
     "status": "ok",
     "timestamp": 1694935340805,
     "user": {
      "displayName": "colab0 ineuron",
      "userId": "16851312232179065356"
     },
     "user_tz": -360
    },
    "id": "8X5poK0tfXMP",
    "outputId": "fed2e3d8-3228-40ca-f5b3-0f75083fbf88"
   },
   "outputs": [],
   "source": [
    "print(cv.vocabulary_)"
   ]
  },
  {
   "cell_type": "code",
   "execution_count": null,
   "metadata": {
    "colab": {
     "base_uri": "https://localhost:8080/"
    },
    "executionInfo": {
     "elapsed": 461,
     "status": "ok",
     "timestamp": 1668843949359,
     "user": {
      "displayName": "Boktiar Ahmed Bappy",
      "userId": "10381972055342951581"
     },
     "user_tz": -360
    },
    "id": "I_xGj2QtfXMQ",
    "outputId": "d2b212e5-09cd-4855-bb71-09512da0120d"
   },
   "outputs": [],
   "source": [
    "print(bow[0].toarray())\n",
    "print(bow[1].toarray())\n",
    "print(bow[2].toarray())"
   ]
  },
  {
   "cell_type": "code",
   "execution_count": null,
   "metadata": {
    "executionInfo": {
     "elapsed": 4,
     "status": "ok",
     "timestamp": 1702122980968,
     "user": {
      "displayName": "colab0 ineuron",
      "userId": "16851312232179065356"
     },
     "user_tz": -360
    },
    "id": "kK2i-zEYmWN7"
   },
   "outputs": [],
   "source": [
    "#Ti gram\n",
    "# BI grams\n",
    "from sklearn.feature_extraction.text import CountVectorizer\n",
    "cv = CountVectorizer(ngram_range=(3,3))"
   ]
  },
  {
   "cell_type": "code",
   "execution_count": null,
   "metadata": {
    "executionInfo": {
     "elapsed": 2,
     "status": "ok",
     "timestamp": 1702122981465,
     "user": {
      "displayName": "colab0 ineuron",
      "userId": "16851312232179065356"
     },
     "user_tz": -360
    },
    "id": "pyPfTgn-mawd"
   },
   "outputs": [],
   "source": [
    "bow = cv.fit_transform(df['text'])"
   ]
  },
  {
   "cell_type": "code",
   "execution_count": null,
   "metadata": {
    "colab": {
     "base_uri": "https://localhost:8080/"
    },
    "executionInfo": {
     "elapsed": 10,
     "status": "ok",
     "timestamp": 1702122981982,
     "user": {
      "displayName": "colab0 ineuron",
      "userId": "16851312232179065356"
     },
     "user_tz": -360
    },
    "id": "P9frxWA3mdE3",
    "outputId": "3bf35e41-c665-4bcb-c037-4c961da91924"
   },
   "outputs": [],
   "source": [
    "print(cv.vocabulary_)"
   ]
  },
  {
   "cell_type": "code",
   "execution_count": null,
   "metadata": {
    "colab": {
     "base_uri": "https://localhost:8080/"
    },
    "executionInfo": {
     "elapsed": 3,
     "status": "ok",
     "timestamp": 1686757843245,
     "user": {
      "displayName": "colab0 ineuron",
      "userId": "16851312232179065356"
     },
     "user_tz": -360
    },
    "id": "Cs96lmRImhIP",
    "outputId": "5b0bcb61-9c62-4764-a3f0-f4ecb24fe3d8"
   },
   "outputs": [],
   "source": [
    "print(bow[0].toarray())\n",
    "print(bow[1].toarray())\n",
    "print(bow[2].toarray())"
   ]
  },
  {
   "cell_type": "markdown",
   "metadata": {
    "id": "7RaMbIHLfXMQ"
   },
   "source": [
    "# TF-IDF (Term frequency- Inverse document frequency)"
   ]
  },
  {
   "cell_type": "code",
   "execution_count": null,
   "metadata": {
    "colab": {
     "base_uri": "https://localhost:8080/",
     "height": 174
    },
    "executionInfo": {
     "elapsed": 14,
     "status": "ok",
     "timestamp": 1702123498808,
     "user": {
      "displayName": "colab0 ineuron",
      "userId": "16851312232179065356"
     },
     "user_tz": -360
    },
    "id": "_uiptQYdfXMQ",
    "outputId": "fbb4a688-dc56-4125-a221-f53765362579"
   },
   "outputs": [],
   "source": [
    "df = pd.DataFrame({\"text\":[\"people watch dswithbappy\",\n",
    "                         \"dswithbappy watch dswithbappy\",\n",
    "                         \"people write comment\",\n",
    "                          \"dswithbappy write comment\"],\"output\":[1,1,0,0]})\n",
    "\n",
    "df"
   ]
  },
  {
   "cell_type": "code",
   "execution_count": null,
   "metadata": {
    "executionInfo": {
     "elapsed": 573,
     "status": "ok",
     "timestamp": 1702123524543,
     "user": {
      "displayName": "colab0 ineuron",
      "userId": "16851312232179065356"
     },
     "user_tz": -360
    },
    "id": "4sgfJYCqfXMR"
   },
   "outputs": [],
   "source": [
    "from sklearn.feature_extraction.text import TfidfVectorizer\n",
    "tfid= TfidfVectorizer()"
   ]
  },
  {
   "cell_type": "code",
   "execution_count": null,
   "metadata": {
    "executionInfo": {
     "elapsed": 504,
     "status": "ok",
     "timestamp": 1702123529200,
     "user": {
      "displayName": "colab0 ineuron",
      "userId": "16851312232179065356"
     },
     "user_tz": -360
    },
    "id": "vrWuOQQBfXMR"
   },
   "outputs": [],
   "source": [
    "arr = tfid.fit_transform(df['text']).toarray()"
   ]
  },
  {
   "cell_type": "code",
   "execution_count": null,
   "metadata": {
    "colab": {
     "base_uri": "https://localhost:8080/"
    },
    "executionInfo": {
     "elapsed": 557,
     "status": "ok",
     "timestamp": 1702123532119,
     "user": {
      "displayName": "colab0 ineuron",
      "userId": "16851312232179065356"
     },
     "user_tz": -360
    },
    "id": "7dm6OMmdc9Py",
    "outputId": "aaa7504e-5959-44d4-fb4e-b23e6cd0306b"
   },
   "outputs": [],
   "source": [
    "arr"
   ]
  },
  {
   "cell_type": "code",
   "execution_count": null,
   "metadata": {
    "colab": {
     "base_uri": "https://localhost:8080/"
    },
    "executionInfo": {
     "elapsed": 526,
     "status": "ok",
     "timestamp": 1702123541417,
     "user": {
      "displayName": "colab0 ineuron",
      "userId": "16851312232179065356"
     },
     "user_tz": -360
    },
    "id": "yvhynBOBfXMR",
    "outputId": "36e79001-5188-486e-9d2c-aaa03736be1f"
   },
   "outputs": [],
   "source": [
    "print(tfid.idf_)"
   ]
  },
  {
   "cell_type": "code",
   "execution_count": null,
   "metadata": {
    "id": "J6vC6Jx9fXMS"
   },
   "outputs": [],
   "source": []
  }
 ],
 "metadata": {
  "colab": {
   "provenance": []
  },
  "kernelspec": {
   "display_name": "ai-packages",
   "language": "python",
   "name": "python3"
  },
  "language_info": {
   "codemirror_mode": {
    "name": "ipython",
    "version": 3
   },
   "file_extension": ".py",
   "mimetype": "text/x-python",
   "name": "python",
   "nbconvert_exporter": "python",
   "pygments_lexer": "ipython3",
   "version": "3.13.3"
  }
 },
 "nbformat": 4,
 "nbformat_minor": 0
}
