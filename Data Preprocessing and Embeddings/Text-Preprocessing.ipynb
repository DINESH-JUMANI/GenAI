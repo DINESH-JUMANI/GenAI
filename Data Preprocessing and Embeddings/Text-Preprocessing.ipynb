{
 "cells": [
  {
   "cell_type": "markdown",
   "metadata": {
    "id": "XQ7oje4Bik85"
   },
   "source": [
    "## Dataset:\n",
    "https://www.kaggle.com/datasets/lakshmi25npathi/imdb-dataset-of-50k-movie-reviews"
   ]
  },
  {
   "cell_type": "code",
   "execution_count": null,
   "metadata": {
    "executionInfo": {
     "elapsed": 2,
     "status": "ok",
     "timestamp": 1702116064666,
     "user": {
      "displayName": "colab0 ineuron",
      "userId": "16851312232179065356"
     },
     "user_tz": -360
    },
    "id": "aW61ohEtjx-H"
   },
   "outputs": [],
   "source": [
    "import pandas as pd"
   ]
  },
  {
   "cell_type": "code",
   "execution_count": null,
   "metadata": {
    "colab": {
     "base_uri": "https://localhost:8080/"
    },
    "executionInfo": {
     "elapsed": 66872,
     "status": "ok",
     "timestamp": 1702116132301,
     "user": {
      "displayName": "colab0 ineuron",
      "userId": "16851312232179065356"
     },
     "user_tz": -360
    },
    "id": "0vPwaIrwBeI7",
    "outputId": "97209553-78a4-41e5-83f6-025da63bfdb7"
   },
   "outputs": [],
   "source": [
    "from google.colab import drive\n",
    "drive.mount('')"
   ]
  },
  {
   "cell_type": "code",
   "execution_count": null,
   "metadata": {
    "colab": {
     "base_uri": "https://localhost:8080/"
    },
    "executionInfo": {
     "elapsed": 613,
     "status": "ok",
     "timestamp": 1702116177831,
     "user": {
      "displayName": "colab0 ineuron",
      "userId": "16851312232179065356"
     },
     "user_tz": -360
    },
    "id": "8VS5a_X0B5n5",
    "outputId": "26a8ebbe-04f8-4552-bd2d-8181b072f0a1"
   },
   "outputs": [],
   "source": [
    "%cd /Users/dineshjumani/Repos/dinesh-webdev-practice/AI/data"
   ]
  },
  {
   "cell_type": "code",
   "execution_count": null,
   "metadata": {
    "colab": {
     "base_uri": "https://localhost:8080/"
    },
    "executionInfo": {
     "elapsed": 912,
     "status": "ok",
     "timestamp": 1702116195595,
     "user": {
      "displayName": "colab0 ineuron",
      "userId": "16851312232179065356"
     },
     "user_tz": -360
    },
    "id": "QZU6QMAFB-Bk",
    "outputId": "6aca1b2c-c008-402f-f508-01d727ff269d"
   },
   "outputs": [],
   "source": [
    "!pwd"
   ]
  },
  {
   "cell_type": "code",
   "execution_count": null,
   "metadata": {
    "colab": {
     "base_uri": "https://localhost:8080/"
    },
    "executionInfo": {
     "elapsed": 935,
     "status": "ok",
     "timestamp": 1702116204260,
     "user": {
      "displayName": "colab0 ineuron",
      "userId": "16851312232179065356"
     },
     "user_tz": -360
    },
    "id": "F5b9gqeCCAod",
    "outputId": "be54a379-2981-4afd-c5c2-cd52b8890316"
   },
   "outputs": [],
   "source": [
    "!ls"
   ]
  },
  {
   "cell_type": "code",
   "execution_count": null,
   "metadata": {
    "colab": {
     "base_uri": "https://localhost:8080/"
    },
    "executionInfo": {
     "elapsed": 713,
     "status": "ok",
     "timestamp": 1694927240676,
     "user": {
      "displayName": "colab0 ineuron",
      "userId": "16851312232179065356"
     },
     "user_tz": -360
    },
    "id": "aSPG8SToiHrR",
    "outputId": "c00f89aa-38b6-422e-e6c4-172ae097c67d"
   },
   "outputs": [],
   "source": [
    "# !unzip /content/IMDB_Dataset.zip"
   ]
  },
  {
   "cell_type": "code",
   "execution_count": null,
   "metadata": {
    "executionInfo": {
     "elapsed": 824,
     "status": "ok",
     "timestamp": 1702116239440,
     "user": {
      "displayName": "colab0 ineuron",
      "userId": "16851312232179065356"
     },
     "user_tz": -360
    },
    "id": "rFFr9P5Gj3la"
   },
   "outputs": [],
   "source": [
    "data_path = \"IMDB Dataset.csv\""
   ]
  },
  {
   "cell_type": "code",
   "execution_count": null,
   "metadata": {
    "execution": {
     "iopub.execute_input": "2021-12-31T06:31:41.835385Z",
     "iopub.status.busy": "2021-12-31T06:31:41.834548Z",
     "iopub.status.idle": "2021-12-31T06:31:43.691014Z",
     "shell.execute_reply": "2021-12-31T06:31:43.689926Z",
     "shell.execute_reply.started": "2021-12-31T06:31:41.835329Z"
    },
    "executionInfo": {
     "elapsed": 2905,
     "status": "ok",
     "timestamp": 1702116244801,
     "user": {
      "displayName": "colab0 ineuron",
      "userId": "16851312232179065356"
     },
     "user_tz": -360
    },
    "id": "p3I8FoIcfXI1"
   },
   "outputs": [],
   "source": [
    "df = pd.read_csv(data_path)"
   ]
  },
  {
   "cell_type": "code",
   "execution_count": null,
   "metadata": {
    "colab": {
     "base_uri": "https://localhost:8080/"
    },
    "execution": {
     "iopub.execute_input": "2021-12-31T06:31:45.066838Z",
     "iopub.status.busy": "2021-12-31T06:31:45.066171Z",
     "iopub.status.idle": "2021-12-31T06:31:45.074943Z",
     "shell.execute_reply": "2021-12-31T06:31:45.074024Z",
     "shell.execute_reply.started": "2021-12-31T06:31:45.066796Z"
    },
    "executionInfo": {
     "elapsed": 1057,
     "status": "ok",
     "timestamp": 1702116523358,
     "user": {
      "displayName": "colab0 ineuron",
      "userId": "16851312232179065356"
     },
     "user_tz": -360
    },
    "id": "Z2xd0TNcfXI2",
    "outputId": "c5302197-48cf-41aa-b175-97c3d61f5c7a"
   },
   "outputs": [],
   "source": [
    "df.shape"
   ]
  },
  {
   "cell_type": "code",
   "execution_count": null,
   "metadata": {
    "colab": {
     "base_uri": "https://localhost:8080/",
     "height": 206
    },
    "executionInfo": {
     "elapsed": 12,
     "status": "ok",
     "timestamp": 1702116248916,
     "user": {
      "displayName": "colab0 ineuron",
      "userId": "16851312232179065356"
     },
     "user_tz": -360
    },
    "id": "sVljHc0QjOtx",
    "outputId": "118afd0d-f34b-4541-fb36-ecd96950fabd"
   },
   "outputs": [],
   "source": [
    "df.head()"
   ]
  },
  {
   "cell_type": "code",
   "execution_count": null,
   "metadata": {
    "executionInfo": {
     "elapsed": 606,
     "status": "ok",
     "timestamp": 1702116561702,
     "user": {
      "displayName": "colab0 ineuron",
      "userId": "16851312232179065356"
     },
     "user_tz": -360
    },
    "id": "eZCM9UfFmf1M"
   },
   "outputs": [],
   "source": [
    "df = df.head(100)"
   ]
  },
  {
   "cell_type": "code",
   "execution_count": null,
   "metadata": {
    "colab": {
     "base_uri": "https://localhost:8080/"
    },
    "executionInfo": {
     "elapsed": 880,
     "status": "ok",
     "timestamp": 1702116565709,
     "user": {
      "displayName": "colab0 ineuron",
      "userId": "16851312232179065356"
     },
     "user_tz": -360
    },
    "id": "9O0EVPWxmvEk",
    "outputId": "5d715949-89d4-427f-ab64-d2ab8ce784f0"
   },
   "outputs": [],
   "source": [
    "df.shape"
   ]
  },
  {
   "cell_type": "code",
   "execution_count": null,
   "metadata": {
    "colab": {
     "base_uri": "https://localhost:8080/",
     "height": 206
    },
    "execution": {
     "iopub.execute_input": "2021-12-31T06:31:45.928154Z",
     "iopub.status.busy": "2021-12-31T06:31:45.927888Z",
     "iopub.status.idle": "2021-12-31T06:31:45.945137Z",
     "shell.execute_reply": "2021-12-31T06:31:45.944403Z",
     "shell.execute_reply.started": "2021-12-31T06:31:45.928126Z"
    },
    "executionInfo": {
     "elapsed": 1394,
     "status": "ok",
     "timestamp": 1702116588435,
     "user": {
      "displayName": "colab0 ineuron",
      "userId": "16851312232179065356"
     },
     "user_tz": -360
    },
    "id": "IK472BClfXI2",
    "outputId": "afcc59c2-55b0-4f3a-a6c3-8487a7b7c57d"
   },
   "outputs": [],
   "source": [
    "df.head()"
   ]
  },
  {
   "cell_type": "markdown",
   "metadata": {
    "id": "2904AVZxfXI3"
   },
   "source": [
    "# lower case"
   ]
  },
  {
   "cell_type": "code",
   "execution_count": null,
   "metadata": {
    "colab": {
     "base_uri": "https://localhost:8080/",
     "height": 139
    },
    "execution": {
     "iopub.execute_input": "2021-12-31T06:31:46.622825Z",
     "iopub.status.busy": "2021-12-31T06:31:46.622155Z",
     "iopub.status.idle": "2021-12-31T06:31:46.631721Z",
     "shell.execute_reply": "2021-12-31T06:31:46.631006Z",
     "shell.execute_reply.started": "2021-12-31T06:31:46.622784Z"
    },
    "executionInfo": {
     "elapsed": 879,
     "status": "ok",
     "timestamp": 1702116770355,
     "user": {
      "displayName": "colab0 ineuron",
      "userId": "16851312232179065356"
     },
     "user_tz": -360
    },
    "id": "GmzqPSelfXI_",
    "outputId": "360c6053-5c6b-4614-8f56-67e3c7034af2"
   },
   "outputs": [],
   "source": [
    "df['review'][3]"
   ]
  },
  {
   "cell_type": "code",
   "execution_count": null,
   "metadata": {
    "execution": {
     "iopub.execute_input": "2021-12-31T06:31:47.787087Z",
     "iopub.status.busy": "2021-12-31T06:31:47.786303Z",
     "iopub.status.idle": "2021-12-31T06:31:47.951308Z",
     "shell.execute_reply": "2021-12-31T06:31:47.950466Z",
     "shell.execute_reply.started": "2021-12-31T06:31:47.787050Z"
    },
    "executionInfo": {
     "elapsed": 577,
     "status": "ok",
     "timestamp": 1702116806371,
     "user": {
      "displayName": "colab0 ineuron",
      "userId": "16851312232179065356"
     },
     "user_tz": -360
    },
    "id": "i89hq6VMfXJB"
   },
   "outputs": [],
   "source": [
    "df['review'] = df['review'].str.lower()"
   ]
  },
  {
   "cell_type": "code",
   "execution_count": null,
   "metadata": {
    "colab": {
     "base_uri": "https://localhost:8080/",
     "height": 423
    },
    "execution": {
     "iopub.execute_input": "2021-12-31T06:31:49.128530Z",
     "iopub.status.busy": "2021-12-31T06:31:49.128210Z",
     "iopub.status.idle": "2021-12-31T06:31:49.139811Z",
     "shell.execute_reply": "2021-12-31T06:31:49.139029Z",
     "shell.execute_reply.started": "2021-12-31T06:31:49.128496Z"
    },
    "executionInfo": {
     "elapsed": 846,
     "status": "ok",
     "timestamp": 1702116810079,
     "user": {
      "displayName": "colab0 ineuron",
      "userId": "16851312232179065356"
     },
     "user_tz": -360
    },
    "id": "glDKwJu4fXJC",
    "outputId": "c65bd924-5a8d-44fd-b86f-8d9b838e24e0"
   },
   "outputs": [],
   "source": [
    "df"
   ]
  },
  {
   "cell_type": "code",
   "execution_count": null,
   "metadata": {
    "colab": {
     "base_uri": "https://localhost:8080/",
     "height": 139
    },
    "executionInfo": {
     "elapsed": 595,
     "status": "ok",
     "timestamp": 1702116816023,
     "user": {
      "displayName": "colab0 ineuron",
      "userId": "16851312232179065356"
     },
     "user_tz": -360
    },
    "id": "Qw-VymfykdQg",
    "outputId": "c08539d4-c8f8-450c-a678-f7e0564a3937"
   },
   "outputs": [],
   "source": [
    "df['review'][3]"
   ]
  },
  {
   "cell_type": "markdown",
   "metadata": {
    "id": "q6PdP4pvfXJD"
   },
   "source": [
    "# remove_html_tags"
   ]
  },
  {
   "cell_type": "code",
   "execution_count": null,
   "metadata": {
    "execution": {
     "iopub.execute_input": "2021-12-31T06:31:50.312485Z",
     "iopub.status.busy": "2021-12-31T06:31:50.311881Z",
     "iopub.status.idle": "2021-12-31T06:31:50.317355Z",
     "shell.execute_reply": "2021-12-31T06:31:50.316605Z",
     "shell.execute_reply.started": "2021-12-31T06:31:50.312441Z"
    },
    "executionInfo": {
     "elapsed": 857,
     "status": "ok",
     "timestamp": 1702116970620,
     "user": {
      "displayName": "colab0 ineuron",
      "userId": "16851312232179065356"
     },
     "user_tz": -360
    },
    "id": "TJBPXPKffXJE"
   },
   "outputs": [],
   "source": [
    "import re\n",
    "def remove_html_tags(text):\n",
    "    pattern = re.compile('<.*?>')\n",
    "    return pattern.sub(r'', text)"
   ]
  },
  {
   "cell_type": "code",
   "execution_count": null,
   "metadata": {
    "execution": {
     "iopub.execute_input": "2021-12-31T06:31:51.213645Z",
     "iopub.status.busy": "2021-12-31T06:31:51.212983Z",
     "iopub.status.idle": "2021-12-31T06:31:51.217270Z",
     "shell.execute_reply": "2021-12-31T06:31:51.216678Z",
     "shell.execute_reply.started": "2021-12-31T06:31:51.213613Z"
    },
    "executionInfo": {
     "elapsed": 5,
     "status": "ok",
     "timestamp": 1702116972611,
     "user": {
      "displayName": "colab0 ineuron",
      "userId": "16851312232179065356"
     },
     "user_tz": -360
    },
    "id": "ULnX84uNfXJE"
   },
   "outputs": [],
   "source": [
    "text = \"<html><body><p> Movie 1</p><p> Actor - Aamir Khan</p><p> Click here to <a href='http://google.com'>download</a></p></body></html>\""
   ]
  },
  {
   "cell_type": "code",
   "execution_count": null,
   "metadata": {
    "colab": {
     "base_uri": "https://localhost:8080/",
     "height": 35
    },
    "execution": {
     "iopub.execute_input": "2021-12-31T06:31:52.830688Z",
     "iopub.status.busy": "2021-12-31T06:31:52.830402Z",
     "iopub.status.idle": "2021-12-31T06:31:52.836008Z",
     "shell.execute_reply": "2021-12-31T06:31:52.835403Z",
     "shell.execute_reply.started": "2021-12-31T06:31:52.830656Z"
    },
    "executionInfo": {
     "elapsed": 718,
     "status": "ok",
     "timestamp": 1702116976737,
     "user": {
      "displayName": "colab0 ineuron",
      "userId": "16851312232179065356"
     },
     "user_tz": -360
    },
    "id": "qNvDbZB0fXJF",
    "outputId": "40f49d2d-e060-4550-ff28-fa4feb4af331"
   },
   "outputs": [],
   "source": [
    "remove_html_tags(text)"
   ]
  },
  {
   "cell_type": "code",
   "execution_count": null,
   "metadata": {
    "execution": {
     "iopub.execute_input": "2021-12-31T06:31:56.044835Z",
     "iopub.status.busy": "2021-12-31T06:31:56.044290Z",
     "iopub.status.idle": "2021-12-31T06:31:56.261722Z",
     "shell.execute_reply": "2021-12-31T06:31:56.260834Z",
     "shell.execute_reply.started": "2021-12-31T06:31:56.044797Z"
    },
    "executionInfo": {
     "elapsed": 591,
     "status": "ok",
     "timestamp": 1702116996894,
     "user": {
      "displayName": "colab0 ineuron",
      "userId": "16851312232179065356"
     },
     "user_tz": -360
    },
    "id": "yC7UIrYBfXJF"
   },
   "outputs": [],
   "source": [
    "df['review'] = df['review'].apply(remove_html_tags)"
   ]
  },
  {
   "cell_type": "code",
   "execution_count": null,
   "metadata": {
    "colab": {
     "base_uri": "https://localhost:8080/",
     "height": 122
    },
    "execution": {
     "iopub.execute_input": "2021-12-31T06:31:57.128227Z",
     "iopub.status.busy": "2021-12-31T06:31:57.127915Z",
     "iopub.status.idle": "2021-12-31T06:31:57.135752Z",
     "shell.execute_reply": "2021-12-31T06:31:57.134890Z",
     "shell.execute_reply.started": "2021-12-31T06:31:57.128194Z"
    },
    "executionInfo": {
     "elapsed": 608,
     "status": "ok",
     "timestamp": 1702117006643,
     "user": {
      "displayName": "colab0 ineuron",
      "userId": "16851312232179065356"
     },
     "user_tz": -360
    },
    "id": "8dC4Wn-CfXJG",
    "outputId": "e2ebf177-4500-47a1-a570-14fbb424fb2f"
   },
   "outputs": [],
   "source": [
    "df['review'][5]"
   ]
  },
  {
   "cell_type": "markdown",
   "metadata": {
    "id": "UdMkoipYfXJG"
   },
   "source": [
    "# remove_url"
   ]
  },
  {
   "cell_type": "code",
   "execution_count": null,
   "metadata": {
    "execution": {
     "iopub.execute_input": "2021-12-31T06:31:59.535009Z",
     "iopub.status.busy": "2021-12-31T06:31:59.534577Z",
     "iopub.status.idle": "2021-12-31T06:31:59.538828Z",
     "shell.execute_reply": "2021-12-31T06:31:59.537932Z",
     "shell.execute_reply.started": "2021-12-31T06:31:59.534968Z"
    },
    "executionInfo": {
     "elapsed": 606,
     "status": "ok",
     "timestamp": 1702117068152,
     "user": {
      "displayName": "colab0 ineuron",
      "userId": "16851312232179065356"
     },
     "user_tz": -360
    },
    "id": "3BmkkiKWfXJG"
   },
   "outputs": [],
   "source": [
    "def remove_url(text):\n",
    "    pattern = re.compile(r'https?://\\S+|www\\.\\S+')\n",
    "    return pattern.sub(r'', text)"
   ]
  },
  {
   "cell_type": "code",
   "execution_count": null,
   "metadata": {
    "execution": {
     "iopub.execute_input": "2021-12-31T06:32:01.777326Z",
     "iopub.status.busy": "2021-12-31T06:32:01.776896Z",
     "iopub.status.idle": "2021-12-31T06:32:01.782039Z",
     "shell.execute_reply": "2021-12-31T06:32:01.781169Z",
     "shell.execute_reply.started": "2021-12-31T06:32:01.777289Z"
    },
    "executionInfo": {
     "elapsed": 848,
     "status": "ok",
     "timestamp": 1702117082143,
     "user": {
      "displayName": "colab0 ineuron",
      "userId": "16851312232179065356"
     },
     "user_tz": -360
    },
    "id": "M2qrlgUVfXJH"
   },
   "outputs": [],
   "source": [
    "text1 = 'Check out my youtube https://www.youtube.com/dswithbappy dswithbappy'\n",
    "text2 = 'Check out my linkedin https://www.linkedin.com/in/boktiarahmed73/'\n",
    "text3 = 'Google search here www.google.com'\n",
    "text4 = 'For data click https://www.kaggle.com/'"
   ]
  },
  {
   "cell_type": "code",
   "execution_count": null,
   "metadata": {
    "colab": {
     "base_uri": "https://localhost:8080/",
     "height": 35
    },
    "execution": {
     "iopub.execute_input": "2021-12-31T06:32:13.347025Z",
     "iopub.status.busy": "2021-12-31T06:32:13.346432Z",
     "iopub.status.idle": "2021-12-31T06:32:13.352108Z",
     "shell.execute_reply": "2021-12-31T06:32:13.351556Z",
     "shell.execute_reply.started": "2021-12-31T06:32:13.346979Z"
    },
    "executionInfo": {
     "elapsed": 619,
     "status": "ok",
     "timestamp": 1702117099378,
     "user": {
      "displayName": "colab0 ineuron",
      "userId": "16851312232179065356"
     },
     "user_tz": -360
    },
    "id": "o3wQdDYGfXJI",
    "outputId": "8a778636-1898-48aa-b5de-ac78158f38ee"
   },
   "outputs": [],
   "source": [
    "remove_url(text1)"
   ]
  },
  {
   "cell_type": "markdown",
   "metadata": {
    "id": "NxXTlMd-fXJI"
   },
   "source": [
    "# punctuation handling"
   ]
  },
  {
   "cell_type": "code",
   "execution_count": null,
   "metadata": {
    "colab": {
     "base_uri": "https://localhost:8080/",
     "height": 35
    },
    "execution": {
     "iopub.execute_input": "2021-12-31T06:32:15.220391Z",
     "iopub.status.busy": "2021-12-31T06:32:15.219430Z",
     "iopub.status.idle": "2021-12-31T06:32:15.226608Z",
     "shell.execute_reply": "2021-12-31T06:32:15.225774Z",
     "shell.execute_reply.started": "2021-12-31T06:32:15.220317Z"
    },
    "executionInfo": {
     "elapsed": 604,
     "status": "ok",
     "timestamp": 1702117155911,
     "user": {
      "displayName": "colab0 ineuron",
      "userId": "16851312232179065356"
     },
     "user_tz": -360
    },
    "id": "9PqZWxf9fXJJ",
    "outputId": "3401aab1-a446-4951-fa2f-cb850ac2e539"
   },
   "outputs": [],
   "source": [
    "import string,time\n",
    "string.punctuation"
   ]
  },
  {
   "cell_type": "code",
   "execution_count": null,
   "metadata": {
    "colab": {
     "base_uri": "https://localhost:8080/",
     "height": 35
    },
    "execution": {
     "iopub.execute_input": "2021-12-31T06:32:17.479876Z",
     "iopub.status.busy": "2021-12-31T06:32:17.479110Z",
     "iopub.status.idle": "2021-12-31T06:32:17.482866Z",
     "shell.execute_reply": "2021-12-31T06:32:17.482313Z",
     "shell.execute_reply.started": "2021-12-31T06:32:17.479840Z"
    },
    "executionInfo": {
     "elapsed": 860,
     "status": "ok",
     "timestamp": 1702117343261,
     "user": {
      "displayName": "colab0 ineuron",
      "userId": "16851312232179065356"
     },
     "user_tz": -360
    },
    "id": "HeyKLJu_fXJJ",
    "outputId": "4f77d47f-e303-4931-ef42-79df294f45f5"
   },
   "outputs": [],
   "source": [
    "exclude = string.punctuation\n",
    "exclude"
   ]
  },
  {
   "cell_type": "code",
   "execution_count": null,
   "metadata": {
    "execution": {
     "iopub.execute_input": "2021-12-31T06:32:55.078670Z",
     "iopub.status.busy": "2021-12-31T06:32:55.078307Z",
     "iopub.status.idle": "2021-12-31T06:32:55.083271Z",
     "shell.execute_reply": "2021-12-31T06:32:55.082403Z",
     "shell.execute_reply.started": "2021-12-31T06:32:55.078636Z"
    },
    "executionInfo": {
     "elapsed": 871,
     "status": "ok",
     "timestamp": 1702117378675,
     "user": {
      "displayName": "colab0 ineuron",
      "userId": "16851312232179065356"
     },
     "user_tz": -360
    },
    "id": "KkB59_vLfXJK"
   },
   "outputs": [],
   "source": [
    "def remove_punc(text):\n",
    "    for char in exclude:\n",
    "        text = text.replace(char,'')\n",
    "    return text\n"
   ]
  },
  {
   "cell_type": "code",
   "execution_count": null,
   "metadata": {
    "execution": {
     "iopub.execute_input": "2021-12-31T06:33:45.243742Z",
     "iopub.status.busy": "2021-12-31T06:33:45.243469Z",
     "iopub.status.idle": "2021-12-31T06:33:45.247986Z",
     "shell.execute_reply": "2021-12-31T06:33:45.247407Z",
     "shell.execute_reply.started": "2021-12-31T06:33:45.243713Z"
    },
    "executionInfo": {
     "elapsed": 913,
     "status": "ok",
     "timestamp": 1702117381990,
     "user": {
      "displayName": "colab0 ineuron",
      "userId": "16851312232179065356"
     },
     "user_tz": -360
    },
    "id": "Xc5SxdEhfXJK"
   },
   "outputs": [],
   "source": [
    "text = 'string. With. Punctuation?'"
   ]
  },
  {
   "cell_type": "code",
   "execution_count": null,
   "metadata": {
    "colab": {
     "base_uri": "https://localhost:8080/"
    },
    "execution": {
     "iopub.execute_input": "2021-12-08T11:47:24.652052Z",
     "iopub.status.busy": "2021-12-08T11:47:24.651733Z",
     "iopub.status.idle": "2021-12-08T11:47:24.658283Z",
     "shell.execute_reply": "2021-12-08T11:47:24.65749Z",
     "shell.execute_reply.started": "2021-12-08T11:47:24.652024Z"
    },
    "executionInfo": {
     "elapsed": 843,
     "status": "ok",
     "timestamp": 1702117395856,
     "user": {
      "displayName": "colab0 ineuron",
      "userId": "16851312232179065356"
     },
     "user_tz": -360
    },
    "id": "UhFUBAhxfXJK",
    "outputId": "a1405107-f0bf-4f5a-cc89-7c83300f2fa5"
   },
   "outputs": [],
   "source": [
    "start = time.time()\n",
    "print(remove_punc(text))\n",
    "time1 = time.time() - start\n",
    "print(time1*50000)"
   ]
  },
  {
   "cell_type": "code",
   "execution_count": null,
   "metadata": {
    "execution": {
     "iopub.execute_input": "2021-12-31T06:35:41.647925Z",
     "iopub.status.busy": "2021-12-31T06:35:41.647652Z",
     "iopub.status.idle": "2021-12-31T06:35:41.652722Z",
     "shell.execute_reply": "2021-12-31T06:35:41.651839Z",
     "shell.execute_reply.started": "2021-12-31T06:35:41.647898Z"
    },
    "executionInfo": {
     "elapsed": 835,
     "status": "ok",
     "timestamp": 1702117566123,
     "user": {
      "displayName": "colab0 ineuron",
      "userId": "16851312232179065356"
     },
     "user_tz": -360
    },
    "id": "mig_Sd1zfXJL"
   },
   "outputs": [],
   "source": [
    "def remove_punc1(text):\n",
    "    return text.translate(str.maketrans('', '', exclude))"
   ]
  },
  {
   "cell_type": "code",
   "execution_count": null,
   "metadata": {
    "colab": {
     "base_uri": "https://localhost:8080/"
    },
    "execution": {
     "iopub.execute_input": "2021-12-31T06:35:44.574532Z",
     "iopub.status.busy": "2021-12-31T06:35:44.574025Z",
     "iopub.status.idle": "2021-12-31T06:35:44.579559Z",
     "shell.execute_reply": "2021-12-31T06:35:44.578868Z",
     "shell.execute_reply.started": "2021-12-31T06:35:44.574499Z"
    },
    "executionInfo": {
     "elapsed": 621,
     "status": "ok",
     "timestamp": 1702117569870,
     "user": {
      "displayName": "colab0 ineuron",
      "userId": "16851312232179065356"
     },
     "user_tz": -360
    },
    "id": "DPUZ5MmSfXJL",
    "outputId": "3972fb50-fc55-483d-9cef-67b00132a12e"
   },
   "outputs": [],
   "source": [
    "start = time.time()\n",
    "remove_punc1(text)\n",
    "time2 = time.time() - start\n",
    "print(time2*50000)"
   ]
  },
  {
   "cell_type": "code",
   "execution_count": null,
   "metadata": {
    "colab": {
     "base_uri": "https://localhost:8080/"
    },
    "execution": {
     "iopub.execute_input": "2021-12-31T06:35:50.343180Z",
     "iopub.status.busy": "2021-12-31T06:35:50.342776Z",
     "iopub.status.idle": "2021-12-31T06:35:50.411964Z",
     "shell.execute_reply": "2021-12-31T06:35:50.410707Z",
     "shell.execute_reply.started": "2021-12-31T06:35:50.343149Z"
    },
    "executionInfo": {
     "elapsed": 873,
     "status": "ok",
     "timestamp": 1702117581475,
     "user": {
      "displayName": "colab0 ineuron",
      "userId": "16851312232179065356"
     },
     "user_tz": -360
    },
    "id": "rxmeooiwfXJL",
    "outputId": "0b895f23-4d9f-4052-cd26-5edeab5d2e38"
   },
   "outputs": [],
   "source": [
    "time1/time2"
   ]
  },
  {
   "cell_type": "code",
   "execution_count": null,
   "metadata": {
    "colab": {
     "base_uri": "https://localhost:8080/",
     "height": 122
    },
    "execution": {
     "iopub.execute_input": "2021-12-31T06:36:00.861965Z",
     "iopub.status.busy": "2021-12-31T06:36:00.861687Z",
     "iopub.status.idle": "2021-12-31T06:36:00.867746Z",
     "shell.execute_reply": "2021-12-31T06:36:00.867162Z",
     "shell.execute_reply.started": "2021-12-31T06:36:00.861937Z"
    },
    "executionInfo": {
     "elapsed": 608,
     "status": "ok",
     "timestamp": 1702117681656,
     "user": {
      "displayName": "colab0 ineuron",
      "userId": "16851312232179065356"
     },
     "user_tz": -360
    },
    "id": "T-eMG-S5fXJM",
    "outputId": "d5443a2e-473a-4d2f-a6d8-c7453fade25c"
   },
   "outputs": [],
   "source": [
    "df['review'][5]"
   ]
  },
  {
   "cell_type": "code",
   "execution_count": null,
   "metadata": {
    "colab": {
     "base_uri": "https://localhost:8080/",
     "height": 122
    },
    "execution": {
     "iopub.execute_input": "2021-12-31T06:36:15.841878Z",
     "iopub.status.busy": "2021-12-31T06:36:15.841151Z",
     "iopub.status.idle": "2021-12-31T06:36:15.847766Z",
     "shell.execute_reply": "2021-12-31T06:36:15.847100Z",
     "shell.execute_reply.started": "2021-12-31T06:36:15.841838Z"
    },
    "executionInfo": {
     "elapsed": 861,
     "status": "ok",
     "timestamp": 1702117691051,
     "user": {
      "displayName": "colab0 ineuron",
      "userId": "16851312232179065356"
     },
     "user_tz": -360
    },
    "id": "y1378-1cfXJM",
    "outputId": "90c512e5-60ca-48d0-bbca-19c4f0a94299"
   },
   "outputs": [],
   "source": [
    "remove_punc1(df['review'][5])"
   ]
  },
  {
   "cell_type": "markdown",
   "metadata": {
    "id": "5SBlyRsrfXJM"
   },
   "source": [
    "# chat_conversion handle"
   ]
  },
  {
   "cell_type": "code",
   "execution_count": null,
   "metadata": {
    "execution": {
     "iopub.execute_input": "2021-12-31T06:36:22.728415Z",
     "iopub.status.busy": "2021-12-31T06:36:22.727766Z",
     "iopub.status.idle": "2021-12-31T06:36:22.743070Z",
     "shell.execute_reply": "2021-12-31T06:36:22.742046Z",
     "shell.execute_reply.started": "2021-12-31T06:36:22.728375Z"
    },
    "executionInfo": {
     "elapsed": 854,
     "status": "ok",
     "timestamp": 1702117929121,
     "user": {
      "displayName": "colab0 ineuron",
      "userId": "16851312232179065356"
     },
     "user_tz": -360
    },
    "id": "nXzadIiQfXJM"
   },
   "outputs": [],
   "source": [
    "chat_words = {\n",
    "    'AFAIK':'As Far As I Know',\n",
    "    'AFK':'Away From Keyboard',\n",
    "    'ASAP':'As Soon As Possible'\n",
    "}\n",
    "\n",
    "\n",
    "{\n",
    "    \"FYI\": \"For Your Information\",\n",
    "    \"ASAP\": \"As Soon As Possible\",\n",
    "    \"BRB\": \"Be Right Back\",\n",
    "    \"BTW\": \"By The Way\",\n",
    "    \"OMG\": \"Oh My God\",\n",
    "    \"IMO\": \"In My Opinion\",\n",
    "    \"LOL\": \"Laugh Out Loud\",\n",
    "    \"TTYL\": \"Talk To You Later\",\n",
    "    \"GTG\": \"Got To Go\",\n",
    "    \"TTYT\": \"Talk To You Tomorrow\",\n",
    "    \"IDK\": \"I Don't Know\",\n",
    "    \"TMI\": \"Too Much Information\",\n",
    "    \"IMHO\": \"In My Humble Opinion\",\n",
    "    \"ICYMI\": \"In Case You Missed It\",\n",
    "    \"AFAIK\": \"As Far As I Know\",\n",
    "    \"BTW\": \"By The Way\",\n",
    "    \"FAQ\": \"Frequently Asked Questions\",\n",
    "    \"TGIF\": \"Thank God It's Friday\",\n",
    "    \"FYA\": \"For Your Action\",\n",
    "    \"ICYMI\": \"In Case You Missed It\",\n",
    "}\n"
   ]
  },
  {
   "cell_type": "code",
   "execution_count": null,
   "metadata": {
    "execution": {
     "iopub.execute_input": "2021-12-31T06:37:18.994223Z",
     "iopub.status.busy": "2021-12-31T06:37:18.993886Z",
     "iopub.status.idle": "2021-12-31T06:37:19.000183Z",
     "shell.execute_reply": "2021-12-31T06:37:18.999265Z",
     "shell.execute_reply.started": "2021-12-31T06:37:18.994189Z"
    },
    "executionInfo": {
     "elapsed": 876,
     "status": "ok",
     "timestamp": 1702117994388,
     "user": {
      "displayName": "colab0 ineuron",
      "userId": "16851312232179065356"
     },
     "user_tz": -360
    },
    "id": "OLgR54U8fXJN"
   },
   "outputs": [],
   "source": [
    "def chat_conversion(text):\n",
    "    new_text = []\n",
    "    for w in text.split():\n",
    "        if w.upper() in chat_words:\n",
    "            new_text.append(chat_words[w.upper()])\n",
    "        else:\n",
    "            new_text.append(w)\n",
    "    return \" \".join(new_text)"
   ]
  },
  {
   "cell_type": "code",
   "execution_count": null,
   "metadata": {
    "colab": {
     "base_uri": "https://localhost:8080/",
     "height": 35
    },
    "execution": {
     "iopub.execute_input": "2021-12-31T06:37:24.999985Z",
     "iopub.status.busy": "2021-12-31T06:37:24.999695Z",
     "iopub.status.idle": "2021-12-31T06:37:25.024673Z",
     "shell.execute_reply": "2021-12-31T06:37:25.023427Z",
     "shell.execute_reply.started": "2021-12-31T06:37:24.999952Z"
    },
    "executionInfo": {
     "elapsed": 852,
     "status": "ok",
     "timestamp": 1702117998941,
     "user": {
      "displayName": "colab0 ineuron",
      "userId": "16851312232179065356"
     },
     "user_tz": -360
    },
    "id": "sXQpRJjufXJN",
    "outputId": "8aa3fc9a-7cb7-4962-edd5-99d27b71df2f"
   },
   "outputs": [],
   "source": [
    "chat_conversion('Do this work ASAP')"
   ]
  },
  {
   "cell_type": "markdown",
   "metadata": {
    "id": "8eP5rC1dfXJN"
   },
   "source": [
    "# incorrect_text handling"
   ]
  },
  {
   "cell_type": "code",
   "execution_count": null,
   "metadata": {
    "execution": {
     "iopub.execute_input": "2021-12-31T06:37:38.717551Z",
     "iopub.status.busy": "2021-12-31T06:37:38.717223Z",
     "iopub.status.idle": "2021-12-31T06:37:40.330551Z",
     "shell.execute_reply": "2021-12-31T06:37:40.329692Z",
     "shell.execute_reply.started": "2021-12-31T06:37:38.717517Z"
    },
    "executionInfo": {
     "elapsed": 2692,
     "status": "ok",
     "timestamp": 1702118134196,
     "user": {
      "displayName": "colab0 ineuron",
      "userId": "16851312232179065356"
     },
     "user_tz": -360
    },
    "id": "tvF49XU6fXJO"
   },
   "outputs": [],
   "source": [
    "from textblob import TextBlob"
   ]
  },
  {
   "cell_type": "code",
   "execution_count": null,
   "metadata": {
    "colab": {
     "base_uri": "https://localhost:8080/",
     "height": 35
    },
    "execution": {
     "iopub.execute_input": "2021-12-31T06:37:50.015862Z",
     "iopub.status.busy": "2021-12-31T06:37:50.015545Z",
     "iopub.status.idle": "2021-12-31T06:37:50.104071Z",
     "shell.execute_reply": "2021-12-31T06:37:50.103445Z",
     "shell.execute_reply.started": "2021-12-31T06:37:50.015829Z"
    },
    "executionInfo": {
     "elapsed": 840,
     "status": "ok",
     "timestamp": 1702118160445,
     "user": {
      "displayName": "colab0 ineuron",
      "userId": "16851312232179065356"
     },
     "user_tz": -360
    },
    "id": "ytlFIBi5fXJO",
    "outputId": "f86d439b-dd98-4500-e091-6645dac95ab1"
   },
   "outputs": [],
   "source": [
    "incorrect_text = 'ceertain conditionas duriing seveal ggenerations aree moodified in the saame maner.'\n",
    "\n",
    "textBlb = TextBlob(incorrect_text)\n",
    "\n",
    "textBlb.correct().string"
   ]
  },
  {
   "cell_type": "markdown",
   "metadata": {
    "id": "WITVhvMnfXJO"
   },
   "source": [
    "# stopwords"
   ]
  },
  {
   "cell_type": "code",
   "execution_count": null,
   "metadata": {
    "colab": {
     "base_uri": "https://localhost:8080/"
    },
    "execution": {
     "iopub.execute_input": "2021-12-31T06:38:05.959259Z",
     "iopub.status.busy": "2021-12-31T06:38:05.958488Z",
     "iopub.status.idle": "2021-12-31T06:38:05.963636Z",
     "shell.execute_reply": "2021-12-31T06:38:05.962600Z",
     "shell.execute_reply.started": "2021-12-31T06:38:05.959220Z"
    },
    "executionInfo": {
     "elapsed": 834,
     "status": "ok",
     "timestamp": 1702118197970,
     "user": {
      "displayName": "colab0 ineuron",
      "userId": "16851312232179065356"
     },
     "user_tz": -360
    },
    "id": "n-2O4IPafXJO",
    "outputId": "866389ed-6303-480f-9590-8f0ad571f79c"
   },
   "outputs": [],
   "source": [
    "from nltk.corpus import stopwords\n",
    "import nltk\n",
    "nltk.download('stopwords')"
   ]
  },
  {
   "cell_type": "code",
   "execution_count": null,
   "metadata": {
    "colab": {
     "base_uri": "https://localhost:8080/"
    },
    "execution": {
     "iopub.execute_input": "2021-12-31T06:38:12.662952Z",
     "iopub.status.busy": "2021-12-31T06:38:12.662315Z",
     "iopub.status.idle": "2021-12-31T06:38:12.676818Z",
     "shell.execute_reply": "2021-12-31T06:38:12.675895Z",
     "shell.execute_reply.started": "2021-12-31T06:38:12.662905Z"
    },
    "executionInfo": {
     "elapsed": 609,
     "status": "ok",
     "timestamp": 1702118201385,
     "user": {
      "displayName": "colab0 ineuron",
      "userId": "16851312232179065356"
     },
     "user_tz": -360
    },
    "id": "5cF8S-1QfXJP",
    "outputId": "de4c1692-2716-4ce6-c073-e237dd36b756"
   },
   "outputs": [],
   "source": [
    "stopwords.words('english')"
   ]
  },
  {
   "cell_type": "code",
   "execution_count": null,
   "metadata": {
    "colab": {
     "base_uri": "https://localhost:8080/"
    },
    "executionInfo": {
     "elapsed": 627,
     "status": "ok",
     "timestamp": 1702118438447,
     "user": {
      "displayName": "colab0 ineuron",
      "userId": "16851312232179065356"
     },
     "user_tz": -360
    },
    "id": "h_9njCnCqeW7",
    "outputId": "73ecb21f-dcf4-47fc-e5e1-a64711a3814b"
   },
   "outputs": [],
   "source": [
    "len(stopwords.words('english'))"
   ]
  },
  {
   "cell_type": "code",
   "execution_count": null,
   "metadata": {
    "execution": {
     "iopub.execute_input": "2021-12-31T06:38:56.165757Z",
     "iopub.status.busy": "2021-12-31T06:38:56.165121Z",
     "iopub.status.idle": "2021-12-31T06:38:56.171381Z",
     "shell.execute_reply": "2021-12-31T06:38:56.170444Z",
     "shell.execute_reply.started": "2021-12-31T06:38:56.165715Z"
    },
    "executionInfo": {
     "elapsed": 594,
     "status": "ok",
     "timestamp": 1702118462159,
     "user": {
      "displayName": "colab0 ineuron",
      "userId": "16851312232179065356"
     },
     "user_tz": -360
    },
    "id": "C6FQ_crxfXJP"
   },
   "outputs": [],
   "source": [
    "def remove_stopwords(text):\n",
    "    new_text = []\n",
    "\n",
    "    for word in text.split():\n",
    "        if word in stopwords.words('english'):\n",
    "            new_text.append('')\n",
    "        else:\n",
    "            new_text.append(word)\n",
    "    x = new_text[:]\n",
    "    new_text.clear()\n",
    "    return \" \".join(x)"
   ]
  },
  {
   "cell_type": "code",
   "execution_count": null,
   "metadata": {
    "colab": {
     "base_uri": "https://localhost:8080/",
     "height": 52
    },
    "execution": {
     "iopub.execute_input": "2021-12-31T06:39:01.303753Z",
     "iopub.status.busy": "2021-12-31T06:39:01.302916Z",
     "iopub.status.idle": "2021-12-31T06:39:01.315515Z",
     "shell.execute_reply": "2021-12-31T06:39:01.314610Z",
     "shell.execute_reply.started": "2021-12-31T06:39:01.303713Z"
    },
    "executionInfo": {
     "elapsed": 875,
     "status": "ok",
     "timestamp": 1702118468950,
     "user": {
      "displayName": "colab0 ineuron",
      "userId": "16851312232179065356"
     },
     "user_tz": -360
    },
    "id": "6ToJ1uqBfXJP",
    "outputId": "1c6f5c9c-43bc-4ff9-d96c-48fccd7ad746"
   },
   "outputs": [],
   "source": [
    "remove_stopwords('probably my all-time favorite movie, a story of selflessness, sacrifice and dedication to a noble cause, but it\\'s not preachy or boring. it just never gets old, despite my having seen it some 15 or more times')"
   ]
  },
  {
   "cell_type": "code",
   "execution_count": null,
   "metadata": {
    "colab": {
     "base_uri": "https://localhost:8080/",
     "height": 206
    },
    "execution": {
     "iopub.execute_input": "2021-12-31T06:39:05.677615Z",
     "iopub.status.busy": "2021-12-31T06:39:05.677024Z",
     "iopub.status.idle": "2021-12-31T06:39:05.688124Z",
     "shell.execute_reply": "2021-12-31T06:39:05.687181Z",
     "shell.execute_reply.started": "2021-12-31T06:39:05.677575Z"
    },
    "executionInfo": {
     "elapsed": 1104,
     "status": "ok",
     "timestamp": 1702118481663,
     "user": {
      "displayName": "colab0 ineuron",
      "userId": "16851312232179065356"
     },
     "user_tz": -360
    },
    "id": "Sv9S5wuGfXJQ",
    "outputId": "79adfc6c-ae9f-42f4-a2b5-ffa19f8aeeb8"
   },
   "outputs": [],
   "source": [
    "df.head()"
   ]
  },
  {
   "cell_type": "code",
   "execution_count": null,
   "metadata": {
    "colab": {
     "base_uri": "https://localhost:8080/"
    },
    "execution": {
     "iopub.execute_input": "2021-12-31T06:39:09.921822Z",
     "iopub.status.busy": "2021-12-31T06:39:09.921540Z",
     "iopub.status.idle": "2021-12-31T06:42:18.536775Z",
     "shell.execute_reply": "2021-12-31T06:42:18.535137Z",
     "shell.execute_reply.started": "2021-12-31T06:39:09.921791Z"
    },
    "executionInfo": {
     "elapsed": 4439,
     "status": "ok",
     "timestamp": 1702118488630,
     "user": {
      "displayName": "colab0 ineuron",
      "userId": "16851312232179065356"
     },
     "user_tz": -360
    },
    "id": "7TT5T2iifXJR",
    "outputId": "14c990ea-1959-4f78-e9f6-a9b55aa196b6"
   },
   "outputs": [],
   "source": [
    "df['review'].apply(remove_stopwords)"
   ]
  },
  {
   "cell_type": "markdown",
   "metadata": {
    "id": "U1BpIUyGfXJS"
   },
   "source": [
    "# remove_emoji handle"
   ]
  },
  {
   "cell_type": "code",
   "execution_count": null,
   "metadata": {
    "execution": {
     "iopub.execute_input": "2021-12-31T06:42:51.745358Z",
     "iopub.status.busy": "2021-12-31T06:42:51.744505Z",
     "iopub.status.idle": "2021-12-31T06:42:51.750288Z",
     "shell.execute_reply": "2021-12-31T06:42:51.749730Z",
     "shell.execute_reply.started": "2021-12-31T06:42:51.745310Z"
    },
    "executionInfo": {
     "elapsed": 609,
     "status": "ok",
     "timestamp": 1702118593135,
     "user": {
      "displayName": "colab0 ineuron",
      "userId": "16851312232179065356"
     },
     "user_tz": -360
    },
    "id": "G1Flwi-jfXJS"
   },
   "outputs": [],
   "source": [
    "import re\n",
    "def remove_emoji(text):\n",
    "    emoji_pattern = re.compile(\"[\"\n",
    "                           u\"\\U0001F600-\\U0001F64F\"  # emoticons\n",
    "                           u\"\\U0001F300-\\U0001F5FF\"  # symbols & pictographs\n",
    "                           u\"\\U0001F680-\\U0001F6FF\"  # transport & map symbols\n",
    "                           u\"\\U0001F1E0-\\U0001F1FF\"  # flags (iOS)\n",
    "                           u\"\\U00002702-\\U000027B0\"\n",
    "                           u\"\\U000024C2-\\U0001F251\"\n",
    "                           \"]+\", flags=re.UNICODE)\n",
    "    return emoji_pattern.sub(r'', text)"
   ]
  },
  {
   "cell_type": "code",
   "execution_count": null,
   "metadata": {
    "colab": {
     "base_uri": "https://localhost:8080/",
     "height": 35
    },
    "execution": {
     "iopub.execute_input": "2021-12-31T06:42:54.927028Z",
     "iopub.status.busy": "2021-12-31T06:42:54.926479Z",
     "iopub.status.idle": "2021-12-31T06:42:54.937617Z",
     "shell.execute_reply": "2021-12-31T06:42:54.937038Z",
     "shell.execute_reply.started": "2021-12-31T06:42:54.926979Z"
    },
    "executionInfo": {
     "elapsed": 2045,
     "status": "ok",
     "timestamp": 1702118604549,
     "user": {
      "displayName": "colab0 ineuron",
      "userId": "16851312232179065356"
     },
     "user_tz": -360
    },
    "id": "ytld3e-afXJT",
    "outputId": "845cf3fb-c7b9-4910-8dba-c391a52cbb80"
   },
   "outputs": [],
   "source": [
    "remove_emoji(\"Loved the movie. It was 😘😘\")"
   ]
  },
  {
   "cell_type": "code",
   "execution_count": null,
   "metadata": {
    "colab": {
     "base_uri": "https://localhost:8080/",
     "height": 35
    },
    "execution": {
     "iopub.execute_input": "2021-12-31T06:42:57.500459Z",
     "iopub.status.busy": "2021-12-31T06:42:57.499747Z",
     "iopub.status.idle": "2021-12-31T06:42:57.505979Z",
     "shell.execute_reply": "2021-12-31T06:42:57.505427Z",
     "shell.execute_reply.started": "2021-12-31T06:42:57.500400Z"
    },
    "executionInfo": {
     "elapsed": 29,
     "status": "ok",
     "timestamp": 1702118609581,
     "user": {
      "displayName": "colab0 ineuron",
      "userId": "16851312232179065356"
     },
     "user_tz": -360
    },
    "id": "tWwFcSKYfXJT",
    "outputId": "912f211f-7a8a-4f51-e6e2-3d86d8f88b15"
   },
   "outputs": [],
   "source": [
    "remove_emoji(\"Lmao 😂😂\")"
   ]
  },
  {
   "cell_type": "code",
   "execution_count": null,
   "metadata": {
    "colab": {
     "base_uri": "https://localhost:8080/"
    },
    "executionInfo": {
     "elapsed": 9961,
     "status": "ok",
     "timestamp": 1702118678831,
     "user": {
      "displayName": "colab0 ineuron",
      "userId": "16851312232179065356"
     },
     "user_tz": -360
    },
    "id": "2kaMJEYFnG4s",
    "outputId": "559fa0e6-f7a4-4d0a-8ba7-24603e4014e6"
   },
   "outputs": [],
   "source": [
    "pip install emoji"
   ]
  },
  {
   "cell_type": "code",
   "execution_count": null,
   "metadata": {
    "colab": {
     "base_uri": "https://localhost:8080/"
    },
    "execution": {
     "iopub.execute_input": "2021-12-31T06:43:04.191966Z",
     "iopub.status.busy": "2021-12-31T06:43:04.191476Z",
     "iopub.status.idle": "2021-12-31T06:43:04.480988Z",
     "shell.execute_reply": "2021-12-31T06:43:04.480125Z",
     "shell.execute_reply.started": "2021-12-31T06:43:04.191935Z"
    },
    "executionInfo": {
     "elapsed": 849,
     "status": "ok",
     "timestamp": 1702118690509,
     "user": {
      "displayName": "colab0 ineuron",
      "userId": "16851312232179065356"
     },
     "user_tz": -360
    },
    "id": "N7KbcmehfXJU",
    "outputId": "d621aba2-2706-4cf1-a126-a70d06126506"
   },
   "outputs": [],
   "source": [
    "import emoji\n",
    "print(emoji.demojize('Python is 🔥'))"
   ]
  },
  {
   "cell_type": "code",
   "execution_count": null,
   "metadata": {
    "colab": {
     "base_uri": "https://localhost:8080/"
    },
    "execution": {
     "iopub.execute_input": "2021-12-31T06:43:07.217770Z",
     "iopub.status.busy": "2021-12-31T06:43:07.217301Z",
     "iopub.status.idle": "2021-12-31T06:43:07.222526Z",
     "shell.execute_reply": "2021-12-31T06:43:07.221705Z",
     "shell.execute_reply.started": "2021-12-31T06:43:07.217723Z"
    },
    "executionInfo": {
     "elapsed": 921,
     "status": "ok",
     "timestamp": 1702118701342,
     "user": {
      "displayName": "colab0 ineuron",
      "userId": "16851312232179065356"
     },
     "user_tz": -360
    },
    "id": "9UuuiuetfXJU",
    "outputId": "cbe7769c-7d2a-4317-b5f8-ec0383bbe61f"
   },
   "outputs": [],
   "source": [
    "print(emoji.demojize('Loved the movie. It was 😘'))"
   ]
  },
  {
   "cell_type": "markdown",
   "metadata": {
    "id": "L68UBnjvfXJV"
   },
   "source": [
    "# Tokenization"
   ]
  },
  {
   "cell_type": "markdown",
   "metadata": {
    "id": "s4DRrhBifXJV"
   },
   "source": [
    "### 1. Using the split function"
   ]
  },
  {
   "cell_type": "code",
   "execution_count": null,
   "metadata": {
    "colab": {
     "base_uri": "https://localhost:8080/"
    },
    "execution": {
     "iopub.execute_input": "2021-12-31T06:43:15.810492Z",
     "iopub.status.busy": "2021-12-31T06:43:15.810189Z",
     "iopub.status.idle": "2021-12-31T06:43:15.816173Z",
     "shell.execute_reply": "2021-12-31T06:43:15.815384Z",
     "shell.execute_reply.started": "2021-12-31T06:43:15.810462Z"
    },
    "executionInfo": {
     "elapsed": 637,
     "status": "ok",
     "timestamp": 1702118799113,
     "user": {
      "displayName": "colab0 ineuron",
      "userId": "16851312232179065356"
     },
     "user_tz": -360
    },
    "id": "ixnRRzv1fXJV",
    "outputId": "2a4f405c-64ed-4688-ba8a-f88a145eeef5"
   },
   "outputs": [],
   "source": [
    "# word tokenization\n",
    "sent1 = 'I am going to delhi'\n",
    "sent1.split()"
   ]
  },
  {
   "cell_type": "code",
   "execution_count": null,
   "metadata": {
    "colab": {
     "base_uri": "https://localhost:8080/"
    },
    "execution": {
     "iopub.execute_input": "2021-12-31T06:43:16.672825Z",
     "iopub.status.busy": "2021-12-31T06:43:16.672535Z",
     "iopub.status.idle": "2021-12-31T06:43:16.679365Z",
     "shell.execute_reply": "2021-12-31T06:43:16.678423Z",
     "shell.execute_reply.started": "2021-12-31T06:43:16.672793Z"
    },
    "executionInfo": {
     "elapsed": 874,
     "status": "ok",
     "timestamp": 1702118821622,
     "user": {
      "displayName": "colab0 ineuron",
      "userId": "16851312232179065356"
     },
     "user_tz": -360
    },
    "id": "Uq8GvD4lfXJW",
    "outputId": "655eea9a-7431-4a25-997a-3a4b0cf52227"
   },
   "outputs": [],
   "source": [
    "# sentence tokenization\n",
    "sent2 = 'I am going to delhi. I will stay there for 3 days. Let\\'s hope the trip to be great'\n",
    "sent2.split('.')"
   ]
  },
  {
   "cell_type": "code",
   "execution_count": null,
   "metadata": {
    "colab": {
     "base_uri": "https://localhost:8080/"
    },
    "execution": {
     "iopub.execute_input": "2021-12-31T06:43:19.371045Z",
     "iopub.status.busy": "2021-12-31T06:43:19.370499Z",
     "iopub.status.idle": "2021-12-31T06:43:19.376805Z",
     "shell.execute_reply": "2021-12-31T06:43:19.376060Z",
     "shell.execute_reply.started": "2021-12-31T06:43:19.371000Z"
    },
    "executionInfo": {
     "elapsed": 591,
     "status": "ok",
     "timestamp": 1702118917299,
     "user": {
      "displayName": "colab0 ineuron",
      "userId": "16851312232179065356"
     },
     "user_tz": -360
    },
    "id": "NuUmlRlqfXJW",
    "outputId": "c8858d81-b372-4f3b-86e7-ea3298f3e425"
   },
   "outputs": [],
   "source": [
    "# Problems with split function\n",
    "sent3 = 'I am going to delhi!'\n",
    "sent3.split()"
   ]
  },
  {
   "cell_type": "code",
   "execution_count": null,
   "metadata": {
    "colab": {
     "base_uri": "https://localhost:8080/"
    },
    "execution": {
     "iopub.execute_input": "2021-12-31T06:43:22.987186Z",
     "iopub.status.busy": "2021-12-31T06:43:22.986910Z",
     "iopub.status.idle": "2021-12-31T06:43:22.993658Z",
     "shell.execute_reply": "2021-12-31T06:43:22.992820Z",
     "shell.execute_reply.started": "2021-12-31T06:43:22.987156Z"
    },
    "executionInfo": {
     "elapsed": 1256,
     "status": "ok",
     "timestamp": 1702118929249,
     "user": {
      "displayName": "colab0 ineuron",
      "userId": "16851312232179065356"
     },
     "user_tz": -360
    },
    "id": "QMTgzvsCfXJX",
    "outputId": "8fd5f928-a042-433d-ddba-c03d1e6fe0e4"
   },
   "outputs": [],
   "source": [
    "sent4 = 'Where do think I should go? I have 3 day holiday'\n",
    "sent4.split('.')"
   ]
  },
  {
   "cell_type": "markdown",
   "metadata": {
    "id": "YyvxOXehfXJX"
   },
   "source": [
    "### 2. Regular Expression"
   ]
  },
  {
   "cell_type": "code",
   "execution_count": null,
   "metadata": {
    "colab": {
     "base_uri": "https://localhost:8080/"
    },
    "execution": {
     "iopub.execute_input": "2021-12-31T06:43:25.066222Z",
     "iopub.status.busy": "2021-12-31T06:43:25.065942Z",
     "iopub.status.idle": "2021-12-31T06:43:25.072526Z",
     "shell.execute_reply": "2021-12-31T06:43:25.071800Z",
     "shell.execute_reply.started": "2021-12-31T06:43:25.066190Z"
    },
    "executionInfo": {
     "elapsed": 1057,
     "status": "ok",
     "timestamp": 1702118940954,
     "user": {
      "displayName": "colab0 ineuron",
      "userId": "16851312232179065356"
     },
     "user_tz": -360
    },
    "id": "FpUVu6qffXJY",
    "outputId": "7246b2a6-60b3-4bf8-fd04-60c2d7015497"
   },
   "outputs": [],
   "source": [
    "import re\n",
    "sent3 = 'I am going to delhi!'\n",
    "tokens = re.findall(\"[\\w']+\", sent3)\n",
    "tokens"
   ]
  },
  {
   "cell_type": "code",
   "execution_count": null,
   "metadata": {
    "colab": {
     "base_uri": "https://localhost:8080/"
    },
    "execution": {
     "iopub.execute_input": "2021-12-31T06:43:36.071658Z",
     "iopub.status.busy": "2021-12-31T06:43:36.071360Z",
     "iopub.status.idle": "2021-12-31T06:43:36.079075Z",
     "shell.execute_reply": "2021-12-31T06:43:36.078094Z",
     "shell.execute_reply.started": "2021-12-31T06:43:36.071624Z"
    },
    "executionInfo": {
     "elapsed": 723,
     "status": "ok",
     "timestamp": 1694930027431,
     "user": {
      "displayName": "colab0 ineuron",
      "userId": "16851312232179065356"
     },
     "user_tz": -360
    },
    "id": "xRQv_HBafXJZ",
    "outputId": "21b5446e-845d-4219-8e5a-6ed69d8e421f"
   },
   "outputs": [],
   "source": [
    "\n",
    "text = \"\"\"Lorem Ipsum is simply dummy text of the printing and typesetting industry?\n",
    "Lorem Ipsum has been the industry's standard dummy text ever since the 1500s,\n",
    "when an unknown printer took a galley of type and scrambled it to make a type specimen book.\"\"\"\n",
    "sentences = re.compile('[.!?] ').split(text)\n",
    "sentences"
   ]
  },
  {
   "cell_type": "markdown",
   "metadata": {
    "id": "E0WfA5rxfXJZ"
   },
   "source": [
    "### 3. NLTK"
   ]
  },
  {
   "cell_type": "code",
   "execution_count": null,
   "metadata": {
    "colab": {
     "base_uri": "https://localhost:8080/"
    },
    "execution": {
     "iopub.execute_input": "2021-12-31T06:43:43.710755Z",
     "iopub.status.busy": "2021-12-31T06:43:43.710469Z",
     "iopub.status.idle": "2021-12-31T06:43:43.715818Z",
     "shell.execute_reply": "2021-12-31T06:43:43.715109Z",
     "shell.execute_reply.started": "2021-12-31T06:43:43.710728Z"
    },
    "executionInfo": {
     "elapsed": 1011,
     "status": "ok",
     "timestamp": 1702118958212,
     "user": {
      "displayName": "colab0 ineuron",
      "userId": "16851312232179065356"
     },
     "user_tz": -360
    },
    "id": "7Xm_QZ8BfXJZ",
    "outputId": "71b6e3fd-a1eb-4a12-c658-fc278fb4865f"
   },
   "outputs": [],
   "source": [
    "from nltk.tokenize import word_tokenize,sent_tokenize\n",
    "import nltk\n",
    "nltk.download('punkt_tab')"
   ]
  },
  {
   "cell_type": "code",
   "execution_count": null,
   "metadata": {
    "colab": {
     "base_uri": "https://localhost:8080/"
    },
    "execution": {
     "iopub.execute_input": "2021-12-31T06:43:44.073430Z",
     "iopub.status.busy": "2021-12-31T06:43:44.072769Z",
     "iopub.status.idle": "2021-12-31T06:43:44.093236Z",
     "shell.execute_reply": "2021-12-31T06:43:44.092271Z",
     "shell.execute_reply.started": "2021-12-31T06:43:44.073393Z"
    },
    "executionInfo": {
     "elapsed": 847,
     "status": "ok",
     "timestamp": 1702118969041,
     "user": {
      "displayName": "colab0 ineuron",
      "userId": "16851312232179065356"
     },
     "user_tz": -360
    },
    "id": "-abmrHeNfXJa",
    "outputId": "3d1eb594-0ceb-44db-f4d6-05b3f4f136aa"
   },
   "outputs": [],
   "source": [
    "sent1 = 'I am going to visit delhi!'\n",
    "word_tokenize(sent1)"
   ]
  },
  {
   "cell_type": "code",
   "execution_count": null,
   "metadata": {
    "colab": {
     "base_uri": "https://localhost:8080/"
    },
    "execution": {
     "iopub.execute_input": "2021-12-10T06:03:00.917544Z",
     "iopub.status.busy": "2021-12-10T06:03:00.915226Z",
     "iopub.status.idle": "2021-12-10T06:03:00.924761Z",
     "shell.execute_reply": "2021-12-10T06:03:00.923887Z",
     "shell.execute_reply.started": "2021-12-10T06:03:00.917502Z"
    },
    "executionInfo": {
     "elapsed": 611,
     "status": "ok",
     "timestamp": 1702118973004,
     "user": {
      "displayName": "colab0 ineuron",
      "userId": "16851312232179065356"
     },
     "user_tz": -360
    },
    "id": "g9xpqy5rfXJa",
    "outputId": "564317bf-d40a-4b18-a15c-e2c5adc995cf"
   },
   "outputs": [],
   "source": [
    "text = \"\"\"Lorem Ipsum is simply dummy text of the printing and typesetting industry?\n",
    "Lorem Ipsum has been the industry's standard dummy text ever since the 1500s,\n",
    "when an unknown printer took a galley of type and scrambled it to make a type specimen book.\"\"\"\n",
    "\n",
    "sent_tokenize(text)"
   ]
  },
  {
   "cell_type": "code",
   "execution_count": null,
   "metadata": {
    "colab": {
     "base_uri": "https://localhost:8080/"
    },
    "execution": {
     "iopub.execute_input": "2021-12-31T06:44:20.220975Z",
     "iopub.status.busy": "2021-12-31T06:44:20.220662Z",
     "iopub.status.idle": "2021-12-31T06:44:20.227882Z",
     "shell.execute_reply": "2021-12-31T06:44:20.227311Z",
     "shell.execute_reply.started": "2021-12-31T06:44:20.220945Z"
    },
    "executionInfo": {
     "elapsed": 719,
     "status": "ok",
     "timestamp": 1694930117285,
     "user": {
      "displayName": "colab0 ineuron",
      "userId": "16851312232179065356"
     },
     "user_tz": -360
    },
    "id": "WPcDxHj1fXJa",
    "outputId": "efaf0458-40e6-4d63-d490-a193122e353b"
   },
   "outputs": [],
   "source": [
    "sent5 = 'I have a Ph.D in A.I'\n",
    "sent6 = \"We're here to help! mail us at nks@gmail.com\"\n",
    "sent7 = 'A 5km ride cost $10.50'\n",
    "\n",
    "word_tokenize(sent5)"
   ]
  },
  {
   "cell_type": "code",
   "execution_count": null,
   "metadata": {
    "colab": {
     "base_uri": "https://localhost:8080/"
    },
    "execution": {
     "iopub.execute_input": "2021-12-31T06:44:25.644168Z",
     "iopub.status.busy": "2021-12-31T06:44:25.643643Z",
     "iopub.status.idle": "2021-12-31T06:44:25.651199Z",
     "shell.execute_reply": "2021-12-31T06:44:25.650604Z",
     "shell.execute_reply.started": "2021-12-31T06:44:25.644113Z"
    },
    "executionInfo": {
     "elapsed": 968,
     "status": "ok",
     "timestamp": 1694930122349,
     "user": {
      "displayName": "colab0 ineuron",
      "userId": "16851312232179065356"
     },
     "user_tz": -360
    },
    "id": "7DPWnjOJfXJa",
    "outputId": "781cdccf-a473-4b96-fae4-a705d5a524da"
   },
   "outputs": [],
   "source": [
    "word_tokenize(sent6)"
   ]
  },
  {
   "cell_type": "code",
   "execution_count": null,
   "metadata": {
    "colab": {
     "base_uri": "https://localhost:8080/"
    },
    "execution": {
     "iopub.execute_input": "2021-12-31T06:44:28.249968Z",
     "iopub.status.busy": "2021-12-31T06:44:28.249507Z",
     "iopub.status.idle": "2021-12-31T06:44:28.255852Z",
     "shell.execute_reply": "2021-12-31T06:44:28.254914Z",
     "shell.execute_reply.started": "2021-12-31T06:44:28.249918Z"
    },
    "executionInfo": {
     "elapsed": 1049,
     "status": "ok",
     "timestamp": 1694930127142,
     "user": {
      "displayName": "colab0 ineuron",
      "userId": "16851312232179065356"
     },
     "user_tz": -360
    },
    "id": "4fP4Af93fXJb",
    "outputId": "9dfcbcad-1444-47ee-81c9-b1085d87b7e5"
   },
   "outputs": [],
   "source": [
    "word_tokenize(sent7)"
   ]
  },
  {
   "cell_type": "markdown",
   "metadata": {
    "id": "zGCXaozqfXJb"
   },
   "source": [
    "### 4. Spacy (good)"
   ]
  },
  {
   "cell_type": "code",
   "execution_count": null,
   "metadata": {},
   "outputs": [],
   "source": [
    "pip install spacy"
   ]
  },
  {
   "cell_type": "code",
   "execution_count": null,
   "metadata": {
    "execution": {
     "iopub.execute_input": "2021-12-31T06:44:30.428238Z",
     "iopub.status.busy": "2021-12-31T06:44:30.427753Z",
     "iopub.status.idle": "2021-12-31T06:44:40.692846Z",
     "shell.execute_reply": "2021-12-31T06:44:40.692211Z",
     "shell.execute_reply.started": "2021-12-31T06:44:30.428189Z"
    },
    "id": "SwVDcE4mfXJb"
   },
   "outputs": [],
   "source": [
    "import spacy\n",
    "nlp = spacy.load('en_core_web_sm')"
   ]
  },
  {
   "cell_type": "code",
   "execution_count": null,
   "metadata": {
    "execution": {
     "iopub.execute_input": "2021-12-31T06:44:40.694652Z",
     "iopub.status.busy": "2021-12-31T06:44:40.694267Z",
     "iopub.status.idle": "2021-12-31T06:44:40.739047Z",
     "shell.execute_reply": "2021-12-31T06:44:40.738463Z",
     "shell.execute_reply.started": "2021-12-31T06:44:40.694605Z"
    },
    "id": "hT14PkK_fXJb"
   },
   "outputs": [],
   "source": [
    "doc1 = nlp(sent5)\n",
    "doc2 = nlp(sent6)\n",
    "doc3 = nlp(sent7)\n",
    "doc4 = nlp(sent1)"
   ]
  },
  {
   "cell_type": "code",
   "execution_count": null,
   "metadata": {
    "colab": {
     "base_uri": "https://localhost:8080/"
    },
    "executionInfo": {
     "elapsed": 1106,
     "status": "ok",
     "timestamp": 1694930168336,
     "user": {
      "displayName": "colab0 ineuron",
      "userId": "16851312232179065356"
     },
     "user_tz": -360
    },
    "id": "IqiMgoh02hVU",
    "outputId": "af862652-7230-445e-82da-1442f75738f6"
   },
   "outputs": [],
   "source": [
    "doc4 = nlp(sent1)\n",
    "doc4"
   ]
  },
  {
   "cell_type": "code",
   "execution_count": null,
   "metadata": {
    "colab": {
     "base_uri": "https://localhost:8080/"
    },
    "execution": {
     "iopub.execute_input": "2021-12-31T06:44:55.784086Z",
     "iopub.status.busy": "2021-12-31T06:44:55.783589Z",
     "iopub.status.idle": "2021-12-31T06:44:55.790345Z",
     "shell.execute_reply": "2021-12-31T06:44:55.789180Z",
     "shell.execute_reply.started": "2021-12-31T06:44:55.784037Z"
    },
    "executionInfo": {
     "elapsed": 964,
     "status": "ok",
     "timestamp": 1694930172591,
     "user": {
      "displayName": "colab0 ineuron",
      "userId": "16851312232179065356"
     },
     "user_tz": -360
    },
    "id": "99vrOvtQfXJc",
    "outputId": "5bb36b67-6783-4847-cf62-93075bf30918"
   },
   "outputs": [],
   "source": [
    "for token in doc4:\n",
    "    print(token)"
   ]
  },
  {
   "cell_type": "code",
   "execution_count": null,
   "metadata": {
    "colab": {
     "base_uri": "https://localhost:8080/",
     "height": 206
    },
    "executionInfo": {
     "elapsed": 768,
     "status": "ok",
     "timestamp": 1694930176672,
     "user": {
      "displayName": "colab0 ineuron",
      "userId": "16851312232179065356"
     },
     "user_tz": -360
    },
    "id": "3uhpdsyI2pac",
    "outputId": "dd74ed2f-f487-4b93-a7ca-3882198f6e0e"
   },
   "outputs": [],
   "source": [
    "df.head()"
   ]
  },
  {
   "cell_type": "markdown",
   "metadata": {
    "id": "3ZO2iHAUfXJc"
   },
   "source": [
    "# Stemmer"
   ]
  },
  {
   "cell_type": "code",
   "execution_count": null,
   "metadata": {
    "execution": {
     "iopub.execute_input": "2021-12-31T06:45:24.636271Z",
     "iopub.status.busy": "2021-12-31T06:45:24.635982Z",
     "iopub.status.idle": "2021-12-31T06:45:24.640222Z",
     "shell.execute_reply": "2021-12-31T06:45:24.639613Z",
     "shell.execute_reply.started": "2021-12-31T06:45:24.636238Z"
    },
    "executionInfo": {
     "elapsed": 881,
     "status": "ok",
     "timestamp": 1702119360869,
     "user": {
      "displayName": "colab0 ineuron",
      "userId": "16851312232179065356"
     },
     "user_tz": -360
    },
    "id": "b9QyBoF7fXJd"
   },
   "outputs": [],
   "source": [
    "from nltk.stem.porter import PorterStemmer"
   ]
  },
  {
   "cell_type": "code",
   "execution_count": null,
   "metadata": {
    "execution": {
     "iopub.execute_input": "2021-12-31T06:46:07.014808Z",
     "iopub.status.busy": "2021-12-31T06:46:07.014418Z",
     "iopub.status.idle": "2021-12-31T06:46:07.021274Z",
     "shell.execute_reply": "2021-12-31T06:46:07.020180Z",
     "shell.execute_reply.started": "2021-12-31T06:46:07.014768Z"
    },
    "executionInfo": {
     "elapsed": 605,
     "status": "ok",
     "timestamp": 1702119367109,
     "user": {
      "displayName": "colab0 ineuron",
      "userId": "16851312232179065356"
     },
     "user_tz": -360
    },
    "id": "tvzg9ij1fXJd"
   },
   "outputs": [],
   "source": [
    "ps = PorterStemmer()\n",
    "def stem_words(text):\n",
    "    return \" \".join([ps.stem(word) for word in text.split()])"
   ]
  },
  {
   "cell_type": "code",
   "execution_count": null,
   "metadata": {
    "colab": {
     "base_uri": "https://localhost:8080/",
     "height": 35
    },
    "execution": {
     "iopub.execute_input": "2021-12-31T06:46:09.751707Z",
     "iopub.status.busy": "2021-12-31T06:46:09.751139Z",
     "iopub.status.idle": "2021-12-31T06:46:09.758027Z",
     "shell.execute_reply": "2021-12-31T06:46:09.757151Z",
     "shell.execute_reply.started": "2021-12-31T06:46:09.751645Z"
    },
    "executionInfo": {
     "elapsed": 587,
     "status": "ok",
     "timestamp": 1702119373440,
     "user": {
      "displayName": "colab0 ineuron",
      "userId": "16851312232179065356"
     },
     "user_tz": -360
    },
    "id": "4G6Hlif3fXJd",
    "outputId": "a39ee314-dc57-4429-b084-b95298f03f30"
   },
   "outputs": [],
   "source": [
    "sample = \"walk walks walking walked\"\n",
    "stem_words(sample)"
   ]
  },
  {
   "cell_type": "code",
   "execution_count": null,
   "metadata": {
    "colab": {
     "base_uri": "https://localhost:8080/"
    },
    "execution": {
     "iopub.execute_input": "2021-12-31T06:46:13.794724Z",
     "iopub.status.busy": "2021-12-31T06:46:13.794420Z",
     "iopub.status.idle": "2021-12-31T06:46:13.800289Z",
     "shell.execute_reply": "2021-12-31T06:46:13.799470Z",
     "shell.execute_reply.started": "2021-12-31T06:46:13.794690Z"
    },
    "executionInfo": {
     "elapsed": 829,
     "status": "ok",
     "timestamp": 1702119380043,
     "user": {
      "displayName": "colab0 ineuron",
      "userId": "16851312232179065356"
     },
     "user_tz": -360
    },
    "id": "z9yy0koLfXJd",
    "outputId": "b3bbe29f-5233-4aeb-cf6f-eb2b2bc7f4c4"
   },
   "outputs": [],
   "source": [
    "text = 'probably my alltime favorite movie a story of selflessness sacrifice and dedication to a noble cause but its not preachy or boring it just never gets old despite my having seen it some 15 or more times in the last 25 years paul lukas performance brings tears to my eyes and bette davis in one of her very few truly sympathetic roles is a delight the kids are as grandma says more like dressedup midgets than children but that only makes them more fun to watch and the mothers slow awakening to whats happening in the world and under her own roof is believable and startling if i had a dozen thumbs theyd all be up for this movie'\n",
    "print(text)"
   ]
  },
  {
   "cell_type": "code",
   "execution_count": null,
   "metadata": {
    "colab": {
     "base_uri": "https://localhost:8080/",
     "height": 104
    },
    "execution": {
     "iopub.execute_input": "2021-12-31T06:46:38.928962Z",
     "iopub.status.busy": "2021-12-31T06:46:38.928309Z",
     "iopub.status.idle": "2021-12-31T06:46:38.938004Z",
     "shell.execute_reply": "2021-12-31T06:46:38.937471Z",
     "shell.execute_reply.started": "2021-12-31T06:46:38.928912Z"
    },
    "executionInfo": {
     "elapsed": 587,
     "status": "ok",
     "timestamp": 1702119385634,
     "user": {
      "displayName": "colab0 ineuron",
      "userId": "16851312232179065356"
     },
     "user_tz": -360
    },
    "id": "UO-aJt_cfXJe",
    "outputId": "4e6f19e3-3cc9-40c1-e599-e7835adf59a6"
   },
   "outputs": [],
   "source": [
    "stem_words(text)"
   ]
  },
  {
   "cell_type": "markdown",
   "metadata": {
    "id": "40L9UIwhfXJe"
   },
   "source": [
    "# Lemmatization"
   ]
  },
  {
   "cell_type": "code",
   "execution_count": null,
   "metadata": {
    "colab": {
     "base_uri": "https://localhost:8080/"
    },
    "execution": {
     "iopub.execute_input": "2021-12-31T06:50:09.585926Z",
     "iopub.status.busy": "2021-12-31T06:50:09.585607Z",
     "iopub.status.idle": "2021-12-31T06:50:11.918170Z",
     "shell.execute_reply": "2021-12-31T06:50:11.917310Z",
     "shell.execute_reply.started": "2021-12-31T06:50:09.585885Z"
    },
    "executionInfo": {
     "elapsed": 4368,
     "status": "ok",
     "timestamp": 1702119457885,
     "user": {
      "displayName": "colab0 ineuron",
      "userId": "16851312232179065356"
     },
     "user_tz": -360
    },
    "id": "eAf31FTGfXJe",
    "outputId": "313e879a-558f-407e-b406-9ddaf7516803"
   },
   "outputs": [],
   "source": [
    "import nltk\n",
    "from nltk.stem import WordNetLemmatizer\n",
    "import nltk\n",
    "nltk.download('wordnet')\n",
    "nltk.download('omw-1.4')\n",
    "wordnet_lemmatizer = WordNetLemmatizer()\n",
    "\n",
    "sentence = \"He was running and eating at same time. He has bad habit of swimming after playing long hours in the Sun.\"\n",
    "punctuations=\"?:!.,;\"\n",
    "sentence_words = nltk.word_tokenize(sentence)\n",
    "for word in sentence_words:\n",
    "    if word in punctuations:\n",
    "        sentence_words.remove(word)\n",
    "\n",
    "sentence_words\n",
    "print(\"{0:20}{1:20}\".format(\"Word\",\"Lemma\"))\n",
    "for word in sentence_words:\n",
    "    print (\"{0:20}{1:20}\".format(word,wordnet_lemmatizer.lemmatize(word,pos='v')))"
   ]
  },
  {
   "cell_type": "markdown",
   "metadata": {
    "id": "TrSXAkATfXJf"
   },
   "source": [
    "#### NOTE: Stemming & lamatization are same to retrieve root words but lamatization is worked good. Lamatization is slow & stemming is fast"
   ]
  },
  {
   "cell_type": "code",
   "execution_count": null,
   "metadata": {
    "id": "DcfHxG6TfXJf"
   },
   "outputs": [],
   "source": []
  }
 ],
 "metadata": {
  "colab": {
   "provenance": []
  },
  "kernelspec": {
   "display_name": "ai-packages",
   "language": "python",
   "name": "python3"
  },
  "language_info": {
   "codemirror_mode": {
    "name": "ipython",
    "version": 3
   },
   "file_extension": ".py",
   "mimetype": "text/x-python",
   "name": "python",
   "nbconvert_exporter": "python",
   "pygments_lexer": "ipython3",
   "version": "3.13.3"
  }
 },
 "nbformat": 4,
 "nbformat_minor": 0
}
