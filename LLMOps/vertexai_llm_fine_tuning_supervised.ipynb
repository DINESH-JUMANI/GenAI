{
  "cells": [
    {
      "cell_type": "markdown",
      "metadata": {
        "id": "FxoyWn1TUi6h"
      },
      "source": [
        "https://codelabs.developers.google.com/llm-finetuning-supervised#4"
      ]
    },
    {
      "cell_type": "markdown",
      "metadata": {
        "id": "80XPRJ8v5lgL"
      },
      "source": [
        "# Model Tuning with Vertex AI Foundation Model"
      ]
    },
    {
      "cell_type": "markdown",
      "metadata": {
        "id": "MpxwbaWD8Vyn"
      },
      "source": [
        "# Objective"
      ]
    },
    {
      "cell_type": "markdown",
      "metadata": {
        "id": "TwFJ03nC712l"
      },
      "source": [
        "This lab teaches you how to tune a foundational model on new unseen data and you will use the following Google Cloud products:\n",
        "*   Vertex AI Pipelines\n",
        "*   Vertex AI Evaluation Services\n",
        "*   Vertex AI Model Registry\n",
        "*   Vertex AI Endpoints"
      ]
    },
    {
      "cell_type": "markdown",
      "metadata": {
        "id": "r2FysBTQ8Y0G"
      },
      "source": [
        "# Use Case"
      ]
    },
    {
      "cell_type": "markdown",
      "metadata": {
        "id": "x-UZNmmw8a3K"
      },
      "source": [
        "Using Generative AI we will generate a suitable TITLE for a news BODY from BBC FULLTEXT DATA (Sourced from BigQuery Public Dataset *bigquery-public-data.bbc_news.fulltext*). We will fine tune text-bison@002 to a new fine-tuned model called \"bbc-news-summary-tuned\" and compare the result with the response from the base model."
      ]
    },
    {
      "cell_type": "markdown",
      "metadata": {
        "id": "-B6XiWwF1Ja9"
      },
      "source": [
        "# Install and Import Dependencies"
      ]
    },
    {
      "cell_type": "code",
      "execution_count": null,
      "metadata": {
        "colab": {
          "base_uri": "https://localhost:8080/"
        },
        "id": "k5l7--obsUKv",
        "outputId": "23e98c73-d8f2-46b3-fab5-f1fd2ca08beb"
      },
      "outputs": [],
      "source": [
        "!pip install google-cloud-aiplatform\n",
        "!pip install --user datasets\n",
        "!pip install --user google-cloud-pipeline-components"
      ]
    },
    {
      "cell_type": "code",
      "execution_count": null,
      "metadata": {
        "colab": {
          "base_uri": "https://localhost:8080/"
        },
        "id": "yWIsbb7RtAwN",
        "outputId": "2d89fbcf-5681-43bc-d7b5-3c01dcf928d5"
      },
      "outputs": [],
      "source": [
        "import IPython\n",
        "\n",
        "app = IPython.Application.instance()\n",
        "app.kernel.do_shutdown(True)"
      ]
    },
    {
      "cell_type": "code",
      "execution_count": null,
      "metadata": {
        "id": "TdMNkeTWspQS"
      },
      "outputs": [],
      "source": [
        "import IPython\n",
        "from google.cloud import aiplatform\n",
        "from google.colab import auth as google_auth\n",
        "google_auth.authenticate_user()"
      ]
    },
    {
      "cell_type": "code",
      "execution_count": null,
      "metadata": {
        "id": "Frvr_myhs1L9"
      },
      "outputs": [],
      "source": [
        "import vertexai\n",
        "PROJECT_ID = \"red-delight-346705\" #@param\n",
        "vertexai.init(project=PROJECT_ID)"
      ]
    },
    {
      "cell_type": "code",
      "execution_count": null,
      "metadata": {
        "id": "9pog2mkBtP3E"
      },
      "outputs": [],
      "source": [
        "region = \"us-central1\"\n",
        "REGION = \"us-central1\"\n",
        "project_id = \"red-delight-346705\""
      ]
    },
    {
      "cell_type": "code",
      "execution_count": null,
      "metadata": {
        "colab": {
          "base_uri": "https://localhost:8080/"
        },
        "id": "InNk_-_TtkSt",
        "outputId": "5e45c399-30b7-484d-8286-e9e11f427661"
      },
      "outputs": [],
      "source": [
        "! gcloud config set project {project_id}"
      ]
    },
    {
      "cell_type": "code",
      "execution_count": null,
      "metadata": {
        "id": "FGfBIRmAuWl8"
      },
      "outputs": [],
      "source": [
        "#Import the necessary libraries\n",
        "\n",
        "import os\n",
        "os.environ['TF_CPP_MIN_LOG_LEVEL'] = '3'\n",
        "import warnings\n",
        "warnings.filterwarnings('ignore')\n",
        "import vertexai\n",
        "vertexai.init(project=PROJECT_ID, location=REGION)\n",
        "import kfp\n",
        "import sys\n",
        "import uuid\n",
        "import json\n",
        "import vertexai\n",
        "import pandas as pd\n",
        "from google.auth import default\n",
        "from datasets import load_dataset\n",
        "from google.cloud import aiplatform\n",
        "from vertexai.preview.language_models import TextGenerationModel, EvaluationTextSummarizationSpec\n"
      ]
    },
    {
      "cell_type": "markdown",
      "metadata": {
        "id": "E4-peVbi1j4e"
      },
      "source": [
        "# Prepare & Load Training Data"
      ]
    },
    {
      "cell_type": "code",
      "execution_count": null,
      "metadata": {
        "id": "fin5SxNztrF4"
      },
      "outputs": [],
      "source": [
        "BUCKET_NAME = 'data-16-05-2024'\n",
        "BUCKET_URI = f\"gs://data-16-05-2024/TRAIN.jsonl\"\n",
        "REGION = \"us-central1\""
      ]
    },
    {
      "cell_type": "code",
      "execution_count": null,
      "metadata": {
        "colab": {
          "base_uri": "https://localhost:8080/",
          "height": 206
        },
        "id": "p98ecQiqvDZV",
        "outputId": "71ce2d85-de78-4f87-a83a-22d5be1794b2"
      },
      "outputs": [],
      "source": [
        "json_url = 'https://storage.googleapis.com/data-16-05-2024/TRAIN.jsonl'\n",
        "df = pd.read_json(\"/content/TRAIN.jsonl\", lines=True)\n",
        "df.head()"
      ]
    },
    {
      "cell_type": "code",
      "execution_count": null,
      "metadata": {
        "colab": {
          "base_uri": "https://localhost:8080/"
        },
        "id": "zyn4n4EzvDa9",
        "outputId": "d5811e24-561b-4638-e81e-d4208499f1cb"
      },
      "outputs": [],
      "source": [
        "print(df.shape)"
      ]
    },
    {
      "cell_type": "markdown",
      "metadata": {
        "id": "mDh3c3kS15rs"
      },
      "source": [
        "Fine Tune Text Bison@002 Model"
      ]
    },
    {
      "cell_type": "code",
      "execution_count": null,
      "metadata": {
        "colab": {
          "base_uri": "https://localhost:8080/",
          "height": 654
        },
        "id": "wGFyXDrqA7iD",
        "outputId": "461291ea-46d8-48ba-8d78-54bc8e125b24"
      },
      "outputs": [],
      "source": [
        "model_display_name = 'bbc-finetuned-model' # @param {type:\"string\"}\n",
        "tuned_model = TextGenerationModel.from_pretrained(\"text-bison@002\")\n",
        "tuned_model.tune_model(\n",
        "training_data=df,\n",
        "train_steps=100,\n",
        "tuning_job_location=\"europe-west4\",\n",
        "tuned_model_location=\"europe-west4\",\n",
        ")\n"
      ]
    },
    {
      "cell_type": "markdown",
      "metadata": {
        "id": "pPK75J9C1_je"
      },
      "source": [
        "# Predict with the new Fine Tuned Model"
      ]
    },
    {
      "cell_type": "code",
      "execution_count": null,
      "metadata": {
        "colab": {
          "base_uri": "https://localhost:8080/"
        },
        "id": "dLuZZQcGzCHJ",
        "outputId": "2ecc2a44-d7b7-4dc4-ab87-64d074c95b8d"
      },
      "outputs": [],
      "source": [
        "response = tuned_model.predict(\"Summarize this text to generate a title: \\n Ever noticed how plane seats appear to be getting smaller and smaller? With increasing numbers of people taking to the skies, some experts are questioning if having such packed out planes is putting passengers at risk. They say that the shrinking space on aeroplanes is not only uncomfortable it it's putting our health and safety in danger. More than squabbling over the arm rest, shrinking space on planes putting our health and safety in danger? This week, a U.S consumer advisory group set up by the Department of Transportation said at a public hearing that while the government is happy to set standards for animals flying on planes, it doesn't stipulate a minimum amount of space for humans.\")\n",
        "print(response.text)"
      ]
    },
    {
      "cell_type": "code",
      "execution_count": null,
      "metadata": {
        "colab": {
          "base_uri": "https://localhost:8080/"
        },
        "id": "76M2mMpl3W3C",
        "outputId": "93a596f4-1c0c-4f06-ceb2-38098fe39a7a"
      },
      "outputs": [],
      "source": [
        "tuned_model_name = tuned_model._endpoint.gca_resource.deployed_models[0].model\n",
        "tuned_model_1 = TextGenerationModel.get_tuned_model(tuned_model_name)\n",
        "#TextGenerationModel.get_tuned_model(\"bbc-finetuned-model\")\n",
        "response = tuned_model_1.predict(\"Summarize this text to generate a title: \\n Ever noticed how plane seats appear to be getting smaller and smaller? With increasing numbers of people taking to the skies, some experts are questioning if having such packed out planes is putting passengers at risk. They say that the shrinking space on aeroplanes is not only uncomfortable it it's putting our health and safety in danger. More than squabbling over the arm rest, shrinking space on planes putting our health and safety in danger? This week, a U.S consumer advisory group set up by the Department of Transportation said at a public hearing that while the government is happy to set standards for animals flying on planes, it doesn't stipulate a minimum amount of space for humans.\")\n",
        "print(response.text)"
      ]
    },
    {
      "cell_type": "markdown",
      "metadata": {
        "id": "2gnkdfyF0_H1"
      },
      "source": [
        "# Predict with Base Model for comparison"
      ]
    },
    {
      "cell_type": "code",
      "execution_count": null,
      "metadata": {
        "colab": {
          "base_uri": "https://localhost:8080/"
        },
        "id": "wQps8gQ52RJ9",
        "outputId": "8993bf8e-c820-4eed-bc51-35309244dc4e"
      },
      "outputs": [],
      "source": [
        "base_model = TextGenerationModel.from_pretrained(\"text-bison@002\")\n",
        "response = base_model.predict(\"Summarize this text to generate a title: \\n Ever noticed how plane seats appear to be getting smaller and smaller? With increasing numbers of people taking to the skies, some experts are questioning if having such packed out planes is putting passengers at risk. They say that the shrinking space on aeroplanes is not only uncomfortable it it's putting our health and safety in danger. More than squabbling over the arm rest, shrinking space on planes putting our health and safety in danger? This week, a U.S consumer advisory group set up by the Department of Transportation said at a public hearing that while the government is happy to set standards for animals flying on planes, it doesn't stipulate a minimum amount of space for humans.\")\n",
        "print(response.text)"
      ]
    }
  ],
  "metadata": {
    "colab": {
      "provenance": []
    },
    "kernelspec": {
      "display_name": "Python 3",
      "name": "python3"
    },
    "language_info": {
      "name": "python"
    }
  },
  "nbformat": 4,
  "nbformat_minor": 0
}
