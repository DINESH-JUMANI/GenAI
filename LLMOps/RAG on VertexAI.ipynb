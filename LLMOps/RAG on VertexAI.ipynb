{
  "cells": [
    {
      "cell_type": "code",
      "execution_count": null,
      "id": "vBG29zWhwWnCbzlDyJPBWIN6",
      "metadata": {
        "colab": {
          "base_uri": "https://localhost:8080/"
        },
        "executionInfo": {
          "elapsed": 4,
          "status": "ok",
          "timestamp": 1727326200874,
          "user": {
            "displayName": "",
            "userId": ""
          },
          "user_tz": -360
        },
        "id": "vBG29zWhwWnCbzlDyJPBWIN6",
        "outputId": "d1e9b6f4-f253-4d6c-c913-8e06c7fec6c1",
        "tags": []
      },
      "outputs": [],
      "source": [
        "print(\"ok\")"
      ]
    },
    {
      "cell_type": "code",
      "execution_count": null,
      "id": "IJS27zX0qhwo",
      "metadata": {
        "colab": {
          "base_uri": "https://localhost:8080/"
        },
        "executionInfo": {
          "elapsed": 11970,
          "status": "ok",
          "timestamp": 1727326220032,
          "user": {
            "displayName": "",
            "userId": ""
          },
          "user_tz": -360
        },
        "id": "IJS27zX0qhwo",
        "outputId": "25ae6f71-1bd0-41a4-8efe-4e436b3ea451"
      },
      "outputs": [],
      "source": [
        "# Install some required packages\n",
        "\n",
        "!pip install pypdf2\n",
        "!pip install google-cloud-aiplatform\n",
        "!pip install google-cloud-storage"
      ]
    },
    {
      "cell_type": "code",
      "execution_count": null,
      "id": "_i2lh3_CqjvH",
      "metadata": {
        "executionInfo": {
          "elapsed": 3988,
          "status": "ok",
          "timestamp": 1727326227949,
          "user": {
            "displayName": "",
            "userId": ""
          },
          "user_tz": -360
        },
        "id": "_i2lh3_CqjvH"
      },
      "outputs": [],
      "source": [
        "from google.cloud import storage\n",
        "from vertexai.language_models import TextEmbeddingModel\n",
        "from google.cloud import aiplatform\n",
        "import PyPDF2\n",
        "\n",
        "import re\n",
        "import os\n",
        "import random\n",
        "import json\n",
        "import uuid\n"
      ]
    },
    {
      "cell_type": "code",
      "execution_count": null,
      "id": "JDZd-aoTqnYu",
      "metadata": {
        "colab": {
          "base_uri": "https://localhost:8080/"
        },
        "executionInfo": {
          "elapsed": 3,
          "status": "ok",
          "timestamp": 1727326255825,
          "user": {
            "displayName": "",
            "userId": ""
          },
          "user_tz": -360
        },
        "id": "JDZd-aoTqnYu",
        "outputId": "11fdb336-c149-4397-a458-9cdceedc3b0c"
      },
      "outputs": [],
      "source": [
        "%ls"
      ]
    },
    {
      "cell_type": "code",
      "execution_count": null,
      "id": "7fjg2m8LqvOe",
      "metadata": {
        "executionInfo": {
          "elapsed": 2,
          "status": "ok",
          "timestamp": 1727326353363,
          "user": {
            "displayName": "",
            "userId": ""
          },
          "user_tz": -360
        },
        "id": "7fjg2m8LqvOe"
      },
      "outputs": [],
      "source": [
        "# Initialize some variable\n",
        "\n",
        "# project=\"your_GCP_project_id\"\n",
        "location=\"us-central1\"\n",
        "\n",
        "pdf_path=\"stats.pdf\"\n",
        "bucket_name = \"stats-content2024\"\n",
        "embed_file_path = \"stats_embeddings.json\"\n",
        "sentence_file_path = \"stats_sentences.json\"\n",
        "index_name=\"stats_index\"\n"
      ]
    },
    {
      "cell_type": "code",
      "execution_count": null,
      "id": "oj4QAgy3qyi9",
      "metadata": {
        "executionInfo": {
          "elapsed": 3,
          "status": "ok",
          "timestamp": 1727326356241,
          "user": {
            "displayName": "",
            "userId": ""
          },
          "user_tz": -360
        },
        "id": "oj4QAgy3qyi9"
      },
      "outputs": [],
      "source": [
        "# helper\n",
        "\n",
        "def extract_sentences_from_pdf(pdf_path):\n",
        "    with open(pdf_path, 'rb') as file:\n",
        "        reader = PyPDF2.PdfReader(file)\n",
        "        text = \"\"\n",
        "        for page in reader.pages:\n",
        "            if page.extract_text() is not None:\n",
        "                text += page.extract_text() + \" \"\n",
        "    sentences = [sentence.strip() for sentence in text.split('. ') if sentence.strip()]\n",
        "    return sentences"
      ]
    },
    {
      "cell_type": "code",
      "execution_count": null,
      "id": "WiZ-nSVVq03V",
      "metadata": {
        "executionInfo": {
          "elapsed": 2,
          "status": "ok",
          "timestamp": 1727326356965,
          "user": {
            "displayName": "",
            "userId": ""
          },
          "user_tz": -360
        },
        "id": "WiZ-nSVVq03V"
      },
      "outputs": [],
      "source": [
        "def generate_text_embeddings(sentences) -> list:\n",
        "  # aiplatform.init(project=project,location=location)\n",
        "  model = TextEmbeddingModel.from_pretrained(\"textembedding-gecko@001\")\n",
        "  embeddings = model.get_embeddings(sentences)\n",
        "  vectors = [embedding.values for embedding in embeddings]\n",
        "  return vectors"
      ]
    },
    {
      "cell_type": "code",
      "execution_count": null,
      "id": "sCcPWMSVq2j1",
      "metadata": {
        "executionInfo": {
          "elapsed": 1,
          "status": "ok",
          "timestamp": 1727326356965,
          "user": {
            "displayName": "",
            "userId": ""
          },
          "user_tz": -360
        },
        "id": "sCcPWMSVq2j1"
      },
      "outputs": [],
      "source": [
        "def generate_and_save_embeddings(pdf_path, sentence_file_path, embed_file_path):\n",
        "    def clean_text(text):\n",
        "        cleaned_text = re.sub(r'\\u2022', '', text)  # Remove bullet points\n",
        "        cleaned_text = re.sub(r'\\s+', ' ', cleaned_text).strip()  # Remove extra whitespaces and strip\n",
        "        return cleaned_text\n",
        "\n",
        "    sentences = extract_sentences_from_pdf(pdf_path)\n",
        "    if sentences:\n",
        "        embeddings = generate_text_embeddings(sentences)\n",
        "\n",
        "        with open(embed_file_path, 'w') as embed_file, open(sentence_file_path, 'w') as sentence_file:\n",
        "            for sentence, embedding in zip(sentences, embeddings):\n",
        "                cleaned_sentence = clean_text(sentence)\n",
        "                id = str(uuid.uuid4())\n",
        "\n",
        "                embed_item = {\"id\": id, \"embedding\": embedding}\n",
        "                sentence_item = {\"id\": id, \"sentence\": cleaned_sentence}\n",
        "\n",
        "                json.dump(sentence_item, sentence_file)\n",
        "                sentence_file.write('\\n')\n",
        "                json.dump(embed_item, embed_file)\n",
        "                embed_file.write('\\n')"
      ]
    },
    {
      "cell_type": "code",
      "execution_count": null,
      "id": "eBmAHQPJq5Ju",
      "metadata": {
        "executionInfo": {
          "elapsed": 1,
          "status": "ok",
          "timestamp": 1727326358432,
          "user": {
            "displayName": "",
            "userId": ""
          },
          "user_tz": -360
        },
        "id": "eBmAHQPJq5Ju"
      },
      "outputs": [],
      "source": [
        "def upload_file(bucket_name,file_path):\n",
        "    storage_client = storage.Client()\n",
        "    bucket = storage_client.create_bucket(bucket_name,location=location)\n",
        "    blob = bucket.blob(file_path)\n",
        "    blob.upload_from_filename(file_path)"
      ]
    },
    {
      "cell_type": "code",
      "execution_count": null,
      "id": "7I-aCNaaq6aG",
      "metadata": {
        "executionInfo": {
          "elapsed": 2,
          "status": "ok",
          "timestamp": 1727326359171,
          "user": {
            "displayName": "",
            "userId": ""
          },
          "user_tz": -360
        },
        "id": "7I-aCNaaq6aG"
      },
      "outputs": [],
      "source": [
        "def create_vector_index(bucket_name, index_name):\n",
        "    lakeside_index = aiplatform.MatchingEngineIndex.create_tree_ah_index(\n",
        "    display_name = index_name,\n",
        "    contents_delta_uri = \"gs://\"+bucket_name,\n",
        "    dimensions = 768,\n",
        "    approximate_neighbors_count = 10,\n",
        "    )\n",
        "\n",
        "    lakeside_index_endpoint = aiplatform.MatchingEngineIndexEndpoint.create(\n",
        "    display_name = index_name,\n",
        "    public_endpoint_enabled = True\n",
        "    )\n",
        "\n",
        "    lakeside_index_endpoint.deploy_index(\n",
        "    index = lakeside_index, deployed_index_id = index_name\n",
        "    )"
      ]
    },
    {
      "cell_type": "code",
      "execution_count": null,
      "id": "8etUF5CEq8Mm",
      "metadata": {
        "executionInfo": {
          "elapsed": 1520,
          "status": "ok",
          "timestamp": 1727326360690,
          "user": {
            "displayName": "",
            "userId": ""
          },
          "user_tz": -360
        },
        "id": "8etUF5CEq8Mm"
      },
      "outputs": [],
      "source": [
        "generate_and_save_embeddings(pdf_path,sentence_file_path,embed_file_path)\n",
        "upload_file(bucket_name,sentence_file_path)"
      ]
    },
    {
      "cell_type": "code",
      "execution_count": null,
      "id": "itPg6OEzq-kO",
      "metadata": {
        "colab": {
          "base_uri": "https://localhost:8080/"
        },
        "executionInfo": {
          "elapsed": 1703164,
          "status": "ok",
          "timestamp": 1727328100291,
          "user": {
            "displayName": "",
            "userId": ""
          },
          "user_tz": -360
        },
        "id": "itPg6OEzq-kO",
        "outputId": "ab4211db-ecd6-4085-bef2-f71359d0eb9e"
      },
      "outputs": [],
      "source": [
        "create_vector_index(bucket_name, index_name)"
      ]
    },
    {
      "cell_type": "code",
      "execution_count": null,
      "id": "iURiCr76rRue",
      "metadata": {
        "executionInfo": {
          "elapsed": 2,
          "status": "ok",
          "timestamp": 1727328143465,
          "user": {
            "displayName": "",
            "userId": ""
          },
          "user_tz": -360
        },
        "id": "iURiCr76rRue"
      },
      "outputs": [],
      "source": [
        "from vertexai.language_models import TextEmbeddingModel\n",
        "from google.cloud import aiplatform\n",
        "import vertexai\n",
        "from vertexai.preview.generative_models import GenerativeModel, Part\n",
        "import json\n",
        "import os"
      ]
    },
    {
      "cell_type": "code",
      "execution_count": null,
      "id": "4JpYpYlAx8Du",
      "metadata": {
        "executionInfo": {
          "elapsed": 1,
          "status": "ok",
          "timestamp": 1727328155023,
          "user": {
            "displayName": "",
            "userId": ""
          },
          "user_tz": -360
        },
        "id": "4JpYpYlAx8Du"
      },
      "outputs": [],
      "source": [
        "# project=”YOUR_GCP_PROJECT”\n",
        "location=\"us-central1\"\n",
        "sentence_file_path = \"stats_sentences.json\"\n",
        "index_name=\"stats_index\" #Get this from the console or the previous step"
      ]
    },
    {
      "cell_type": "code",
      "execution_count": null,
      "id": "TWP8r_VIx-tu",
      "metadata": {
        "executionInfo": {
          "elapsed": 751,
          "status": "ok",
          "timestamp": 1727328576029,
          "user": {
            "displayName": "",
            "userId": ""
          },
          "user_tz": -360
        },
        "id": "TWP8r_VIx-tu"
      },
      "outputs": [],
      "source": [
        "# aiplatform.init(project=project,location=location)\n",
        "# vertexai.init()\n",
        "model = GenerativeModel(\"gemini-pro\")\n",
        "lakeside_index_ep = aiplatform.MatchingEngineIndexEndpoint(index_endpoint_name=\"1376179539650019328\")"
      ]
    },
    {
      "cell_type": "code",
      "execution_count": null,
      "id": "y5CpZY01yKum",
      "metadata": {
        "executionInfo": {
          "elapsed": 2,
          "status": "ok",
          "timestamp": 1727328597001,
          "user": {
            "displayName": "",
            "userId": ""
          },
          "user_tz": -360
        },
        "id": "y5CpZY01yKum"
      },
      "outputs": [],
      "source": [
        "def generate_text_embeddings(sentences) -> list:\n",
        "    model = TextEmbeddingModel.from_pretrained(\"textembedding-gecko@001\")\n",
        "    embeddings = model.get_embeddings(sentences)\n",
        "    vectors = [embedding.values for embedding in embeddings]\n",
        "    return vectors\n",
        "\n",
        "\n",
        "def generate_context(ids,data):\n",
        "    concatenated_names = ''\n",
        "    for id in ids:\n",
        "        for entry in data:\n",
        "            if entry['id'] == id:\n",
        "                concatenated_names += entry['sentence'] + \"\\n\"\n",
        "    return concatenated_names.strip()\n",
        "\n",
        "\n",
        "\n",
        "def load_file(sentence_file_path):\n",
        "  data = []\n",
        "  with open(sentence_file_path,'r') as f:\n",
        "    for line in f:\n",
        "      entry = json.loads(line)\n",
        "      data.append(entry)\n",
        "  return data\n",
        "\n",
        "\n",
        "\n"
      ]
    },
    {
      "cell_type": "code",
      "execution_count": null,
      "id": "6aCnXfywzqxO",
      "metadata": {
        "colab": {
          "base_uri": "https://localhost:8080/"
        },
        "executionInfo": {
          "elapsed": 4,
          "status": "ok",
          "timestamp": 1727328602867,
          "user": {
            "displayName": "",
            "userId": ""
          },
          "user_tz": -360
        },
        "id": "6aCnXfywzqxO",
        "outputId": "b7ae595b-8d4f-400a-b283-15eca0ec9f7d"
      },
      "outputs": [],
      "source": [
        "data=load_file(sentence_file_path)\n",
        "data"
      ]
    },
    {
      "cell_type": "code",
      "execution_count": null,
      "id": "kJjWdNaHzsQE",
      "metadata": {
        "executionInfo": {
          "elapsed": 701,
          "status": "ok",
          "timestamp": 1727330380465,
          "user": {
            "displayName": "",
            "userId": ""
          },
          "user_tz": -360
        },
        "id": "kJjWdNaHzsQE"
      },
      "outputs": [],
      "source": [
        "query=[\"what is correlation?\"]\n",
        "\n",
        "qry_emb=generate_text_embeddings(query)"
      ]
    },
    {
      "cell_type": "code",
      "execution_count": null,
      "id": "e36FrIBmzxWP",
      "metadata": {
        "executionInfo": {
          "elapsed": 1,
          "status": "ok",
          "timestamp": 1727330336392,
          "user": {
            "displayName": "",
            "userId": ""
          },
          "user_tz": -360
        },
        "id": "e36FrIBmzxWP"
      },
      "outputs": [],
      "source": [
        "# qry_emb"
      ]
    },
    {
      "cell_type": "code",
      "execution_count": null,
      "id": "7oUeWFzezyMG",
      "metadata": {
        "executionInfo": {
          "elapsed": 721,
          "status": "ok",
          "timestamp": 1727330385419,
          "user": {
            "displayName": "",
            "userId": ""
          },
          "user_tz": -360
        },
        "id": "7oUeWFzezyMG"
      },
      "outputs": [],
      "source": [
        "response = lakeside_index_ep.find_neighbors(\n",
        "    deployed_index_id = index_name,\n",
        "    queries = [qry_emb[0]],\n",
        "    num_neighbors = 10\n",
        ")"
      ]
    },
    {
      "cell_type": "code",
      "execution_count": null,
      "id": "iY4Gk2SBz7Cg",
      "metadata": {
        "colab": {
          "base_uri": "https://localhost:8080/"
        },
        "executionInfo": {
          "elapsed": 4748,
          "status": "ok",
          "timestamp": 1727330393753,
          "user": {
            "displayName": "",
            "userId": ""
          },
          "user_tz": -360
        },
        "id": "iY4Gk2SBz7Cg",
        "outputId": "60060dd9-c5ec-40bf-cb34-49822a06dabc"
      },
      "outputs": [],
      "source": [
        "matching_ids = [neighbor.id for sublist in response for neighbor in sublist]\n",
        "\n",
        "context = generate_context(matching_ids,data)\n",
        "prompt=f\"Based on the context delimited in backticks, answer the query. ```{context}``` {query}\"\n",
        "\n",
        "chat = model.start_chat(history=[])\n",
        "response = chat.send_message(prompt)\n",
        "print(response.text)"
      ]
    },
    {
      "cell_type": "code",
      "execution_count": null,
      "id": "Pgue5OOnz-dG",
      "metadata": {
        "id": "Pgue5OOnz-dG"
      },
      "outputs": [],
      "source": []
    }
  ],
  "metadata": {
    "colab": {
      "name": "cloud (Sep 26, 2024, 10:48:35 AM)",
      "provenance": []
    },
    "kernelspec": {
      "display_name": "Python 3",
      "language": "python",
      "name": "python3"
    },
    "language_info": {
      "codemirror_mode": {
        "name": "ipython",
        "version": 3
      },
      "file_extension": ".py",
      "mimetype": "text/x-python",
      "name": "python",
      "nbconvert_exporter": "python",
      "pygments_lexer": "ipython3",
      "version": "3.10.10"
    }
  },
  "nbformat": 4,
  "nbformat_minor": 5
}
