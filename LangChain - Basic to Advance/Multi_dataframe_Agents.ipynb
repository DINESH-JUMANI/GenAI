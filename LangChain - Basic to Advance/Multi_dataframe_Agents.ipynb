{
  "cells": [
    {
      "cell_type": "markdown",
      "metadata": {
        "id": "A7X1Fq1q6jRw"
      },
      "source": [
        "#**In LangChain, the Agent can access many dataframes at once**"
      ]
    },
    {
      "cell_type": "markdown",
      "metadata": {
        "id": "zotWGw4D6vO9"
      },
      "source": [
        "#**01: Install All the Required Packages**"
      ]
    },
    {
      "cell_type": "code",
      "execution_count": null,
      "metadata": {
        "colab": {
          "base_uri": "https://localhost:8080/"
        },
        "id": "tjduxL3B5UCP",
        "outputId": "dc81a401-ab2b-4f13-f71e-a173e10ce55e"
      },
      "outputs": [],
      "source": [
        "!pip install langchain langchain_experimental\n",
        "!pip install watermark\n",
        "!pip install openai"
      ]
    },
    {
      "cell_type": "markdown",
      "metadata": {
        "id": "T0s5kTxf7VCm"
      },
      "source": [
        "#**02: Import All The Required Libraries**"
      ]
    },
    {
      "cell_type": "code",
      "execution_count": null,
      "metadata": {
        "id": "T7IioE_66-N2"
      },
      "outputs": [],
      "source": [
        "import os\n",
        "import warnings\n",
        "warnings.filterwarnings(\"ignore\")"
      ]
    },
    {
      "cell_type": "code",
      "execution_count": null,
      "metadata": {
        "id": "wRkcMjDB78Br"
      },
      "outputs": [],
      "source": [
        "from langchain_experimental.agents.agent_toolkits import create_pandas_dataframe_agent\n",
        "from langchain.llms import OpenAI"
      ]
    },
    {
      "cell_type": "code",
      "execution_count": null,
      "metadata": {
        "id": "J-uHmjRl8JcP"
      },
      "outputs": [],
      "source": [
        "import pandas as pd"
      ]
    },
    {
      "cell_type": "markdown",
      "metadata": {
        "id": "k3jGXIR77nWQ"
      },
      "source": [
        "#**03: Setup the Environment**\n"
      ]
    },
    {
      "cell_type": "code",
      "execution_count": null,
      "metadata": {
        "id": "DJlywphB7Jyx"
      },
      "outputs": [],
      "source": [
        "os.environ['OPENAI_API_KEY'] = \"\""
      ]
    },
    {
      "cell_type": "markdown",
      "metadata": {
        "id": "0y3o6s0a80Zw"
      },
      "source": [
        "#**04:Data**"
      ]
    },
    {
      "cell_type": "code",
      "execution_count": null,
      "metadata": {
        "colab": {
          "base_uri": "https://localhost:8080/",
          "height": 223
        },
        "id": "-592m0MV73EJ",
        "outputId": "6fef59df-84b1-4dcc-dcf7-53302791e899"
      },
      "outputs": [],
      "source": [
        "url = \"https://raw.githubusercontent.com/adamerose/datasets/master/titanic.csv\"\n",
        "df=pd.read_csv(url)\n",
        "print(df.shape)\n",
        "df.head()"
      ]
    },
    {
      "cell_type": "markdown",
      "metadata": {
        "id": "8IY8w4JO9aVc"
      },
      "source": [
        "#**05: Single DataFrame Example**"
      ]
    },
    {
      "cell_type": "markdown",
      "metadata": {
        "id": "KNe57hcF-wan"
      },
      "source": [
        "#**Agent can interact with Single DataFrame**"
      ]
    },
    {
      "cell_type": "code",
      "execution_count": null,
      "metadata": {
        "id": "_dmmbSRj_C6_"
      },
      "outputs": [],
      "source": [
        "llm=OpenAI()"
      ]
    },
    {
      "cell_type": "code",
      "execution_count": null,
      "metadata": {
        "id": "a-NWQSUG9La9"
      },
      "outputs": [],
      "source": [
        "agent=create_pandas_dataframe_agent(llm, df, verbose=True, allow_dangerous_code=True)"
      ]
    },
    {
      "cell_type": "code",
      "execution_count": null,
      "metadata": {
        "colab": {
          "base_uri": "https://localhost:8080/",
          "height": 177
        },
        "id": "MlHrvWqe_NcF",
        "outputId": "e9170fe7-4d8c-4da0-c0bd-e5b983c94f1e"
      },
      "outputs": [],
      "source": [
        "agent.run(\"How many rows are there\")"
      ]
    },
    {
      "cell_type": "code",
      "execution_count": null,
      "metadata": {
        "colab": {
          "base_uri": "https://localhost:8080/",
          "height": 177
        },
        "id": "MynWTLaH_ZCC",
        "outputId": "ef03d4ef-cf6d-4f1e-aa3e-4696dfdd292b"
      },
      "outputs": [],
      "source": [
        "agent.run(\"How many people have more than 23 age\")"
      ]
    },
    {
      "cell_type": "markdown",
      "metadata": {
        "id": "So0M1eZF_iGZ"
      },
      "source": [
        "#**06: Multi DataFrame Example**"
      ]
    },
    {
      "cell_type": "markdown",
      "metadata": {
        "id": "OjJOixeA_pa1"
      },
      "source": [
        "#**Agent can also interact with Multiple DataFrames passed in a list**"
      ]
    },
    {
      "cell_type": "code",
      "execution_count": null,
      "metadata": {
        "colab": {
          "base_uri": "https://localhost:8080/"
        },
        "id": "Qnpsxt0w_n3o",
        "outputId": "d431e20e-fd6c-409b-efde-03491debbf3b"
      },
      "outputs": [],
      "source": [
        "df.info()"
      ]
    },
    {
      "cell_type": "code",
      "execution_count": null,
      "metadata": {
        "id": "JRtvCp46_0Ux"
      },
      "outputs": [],
      "source": [
        "df1=df.copy()"
      ]
    },
    {
      "cell_type": "code",
      "execution_count": null,
      "metadata": {
        "colab": {
          "base_uri": "https://localhost:8080/",
          "height": 423
        },
        "id": "UlKuMMPqaLhi",
        "outputId": "49318e2c-3444-49f0-ae77-404a9e0eeaf8"
      },
      "outputs": [],
      "source": [
        "df1"
      ]
    },
    {
      "cell_type": "code",
      "execution_count": null,
      "metadata": {
        "id": "z7RQ4BhM_0XW"
      },
      "outputs": [],
      "source": [
        "df1[\"age\"] = df1[\"age\"].fillna(df1[\"age\"].mean())"
      ]
    },
    {
      "cell_type": "code",
      "execution_count": null,
      "metadata": {
        "id": "RX5EVDSB_0c5"
      },
      "outputs": [],
      "source": [
        "agent=create_pandas_dataframe_agent(llm, [df, df1], verbose=True,allow_dangerous_code=True)"
      ]
    },
    {
      "cell_type": "code",
      "execution_count": null,
      "metadata": {
        "colab": {
          "base_uri": "https://localhost:8080/",
          "height": 177
        },
        "id": "8qW8HeOk_0fy",
        "outputId": "2b550c26-a96f-471d-b15e-4f5b7192ae31"
      },
      "outputs": [],
      "source": [
        "agent.run(\"How many rows in the age column are different\")"
      ]
    },
    {
      "cell_type": "code",
      "execution_count": null,
      "metadata": {
        "id": "u60FO5PA_0iP"
      },
      "outputs": [],
      "source": [
        "df2=df1.copy()"
      ]
    },
    {
      "cell_type": "code",
      "execution_count": null,
      "metadata": {
        "id": "oMwaMfn7AjeP"
      },
      "outputs": [],
      "source": [
        "df2[\"Age_Multiplied\"]=df1[\"age\"] * 2"
      ]
    },
    {
      "cell_type": "code",
      "execution_count": null,
      "metadata": {
        "colab": {
          "base_uri": "https://localhost:8080/",
          "height": 206
        },
        "id": "CYcPLbzGAjhP",
        "outputId": "066be413-4d95-4d2a-fd32-3d2104626ce6"
      },
      "outputs": [],
      "source": [
        "df2.head()"
      ]
    },
    {
      "cell_type": "code",
      "execution_count": null,
      "metadata": {
        "id": "zjzVpXHzAjkE"
      },
      "outputs": [],
      "source": [
        "agent=create_pandas_dataframe_agent(llm, [df,df1, df2], verbose=True, allow_dangerous_code=True)"
      ]
    },
    {
      "cell_type": "code",
      "execution_count": null,
      "metadata": {
        "colab": {
          "base_uri": "https://localhost:8080/",
          "height": 645
        },
        "id": "TWOnKkrUAjmp",
        "outputId": "13bae17b-1b47-4139-ba5d-ed892ba2a5fd"
      },
      "outputs": [],
      "source": [
        "agent.run(\"Are the number of columns same in all the dataframe\")"
      ]
    },
    {
      "cell_type": "code",
      "execution_count": null,
      "metadata": {
        "id": "hEib7n5aAjqQ"
      },
      "outputs": [],
      "source": []
    }
  ],
  "metadata": {
    "colab": {
      "provenance": []
    },
    "kernelspec": {
      "display_name": "Python 3",
      "name": "python3"
    },
    "language_info": {
      "name": "python"
    }
  },
  "nbformat": 4,
  "nbformat_minor": 0
}
